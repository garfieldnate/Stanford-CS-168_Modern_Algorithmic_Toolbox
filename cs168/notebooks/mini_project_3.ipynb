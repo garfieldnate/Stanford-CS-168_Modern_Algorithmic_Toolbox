{
 "cells": [
  {
   "cell_type": "code",
   "execution_count": 321,
   "id": "57af38ca-addd-4c32-b9dd-8e484d67c588",
   "metadata": {},
   "outputs": [
    {
     "name": "stdout",
     "output_type": "stream",
     "text": [
      "The autoreload extension is already loaded. To reload it, use:\n",
      "  %reload_ext autoreload\n",
      "The blackcellmagic extension is already loaded. To reload it, use:\n",
      "  %reload_ext blackcellmagic\n"
     ]
    },
    {
     "data": {
      "text/html": [
       "\n",
       "<style>\n",
       ".custom-assignment-text {\n",
       "    background-color: lightyellow;\n",
       "    border: 1px solid darkkhaki; \n",
       "    padding: 10px;\n",
       "    border-radius: 2px\n",
       "}\n",
       "</style>"
      ],
      "text/plain": [
       "<IPython.core.display.HTML object>"
      ]
     },
     "metadata": {},
     "output_type": "display_data"
    },
    {
     "data": {
      "text/html": [
       "\n",
       "<style>\n",
       ".jp-OutputArea-prompt:empty {\n",
       "  padding: 0;\n",
       "  border: 0;\n",
       "}\n",
       "</style>\n"
      ],
      "text/plain": [
       "<IPython.core.display.HTML object>"
      ]
     },
     "metadata": {},
     "output_type": "display_data"
    },
    {
     "data": {
      "text/markdown": [
       "#### Custom functionality enabled:"
      ],
      "text/plain": [
       "<IPython.core.display.Markdown object>"
      ]
     },
     "metadata": {},
     "output_type": "display_data"
    },
    {
     "data": {
      "text/markdown": [
       "* Format a code cell by entering %%black at the top of it"
      ],
      "text/plain": [
       "<IPython.core.display.Markdown object>"
      ]
     },
     "metadata": {},
     "output_type": "display_data"
    },
    {
     "data": {
      "text/markdown": [
       "* Surround markdown cells with  `<div class=\"custom-assignment-text\">\\n\\n ... \\n\\n</div>` to format course-provided assignment text"
      ],
      "text/plain": [
       "<IPython.core.display.Markdown object>"
      ]
     },
     "metadata": {},
     "output_type": "display_data"
    },
    {
     "data": {
      "text/markdown": [
       "* Use `ok(<message>)` to notify of a passing test"
      ],
      "text/plain": [
       "<IPython.core.display.Markdown object>"
      ]
     },
     "metadata": {},
     "output_type": "display_data"
    },
    {
     "data": {
      "text/markdown": [
       "* Use `assert_globals_clean()` to check that all globals are managed (private, constants, etc.)"
      ],
      "text/plain": [
       "<IPython.core.display.Markdown object>"
      ]
     },
     "metadata": {},
     "output_type": "display_data"
    },
    {
     "data": {
      "text/markdown": [
       "* Use `display_table` to display data in an inline HTML table"
      ],
      "text/plain": [
       "<IPython.core.display.Markdown object>"
      ]
     },
     "metadata": {},
     "output_type": "display_data"
    }
   ],
   "source": [
    "###########\n",
    "# PRELUDE #\n",
    "###########\n",
    "\n",
    "# auto-reload changed python files\n",
    "%load_ext autoreload\n",
    "%autoreload 2\n",
    "\n",
    "# Format cells with %%black\n",
    "%load_ext blackcellmagic\n",
    "\n",
    "# nice interactive plots\n",
    "%matplotlib inline\n",
    "\n",
    "# add repository directory to include path\n",
    "from pathlib import Path\n",
    "import sys\n",
    "PROJECT_DIR = Path('../..').resolve()\n",
    "sys.path.append(str(PROJECT_DIR))\n",
    "\n",
    "import inspect\n",
    "def _acceptable_global(name, value):\n",
    "    \"\"\"Returns True if a global variable with name/value can be safely ignored\"\"\"\n",
    "    return (\n",
    "        # stuff that's normal to share everywhere\n",
    "        inspect.isroutine(value) or\n",
    "        inspect.isclass(value) or\n",
    "        inspect.ismodule(value) or\n",
    "        # leading underscore marks private variables\n",
    "        name.startswith('_') or\n",
    "        # all-caps names indicate constants\n",
    "        name.upper() == name or\n",
    "        # ignore IPython stuff\n",
    "        name in {'In', 'Out'} or \n",
    "        getattr(value, '__module__', '').startswith('IPython'))\n",
    "\n",
    "def assert_globals_clean():\n",
    "    \"\"\"Raises an assertion error if there are unmanaged global variables.\n",
    "       Variables that are considered 'managed' include those formatted with \n",
    "       ALL_CAPS (constants), _a_leading_underscore (recognized as a global but at\n",
    "       least indicated as private to the cell), classes and modules, automatic\n",
    "       imports from IPython, and functions generally.\"\"\"\n",
    "    unmanaged_globals = {k:type(v) for k, v in globals().items() if not _acceptable_global(k, v)}\n",
    "    if unmanaged_globals != {}:\n",
    "        raise AssertionError(f\"Unmanaged globals found: {unmanaged_globals}\")\n",
    "    ok(\"No unmanaged globals detected\")\n",
    "\n",
    "from IPython.display import display, Markdown, HTML\n",
    "\n",
    "def markdown(s):\n",
    "    return display(Markdown(s))\n",
    "\n",
    "def html(s):\n",
    "    return display(HTML(s))\n",
    "\n",
    "def ok(message=\"OK\"):\n",
    "    html(f\"<div class=\\\"alert alert-block alert-success\\\">{message}</div>\")\n",
    "\n",
    "html(\"\"\"\n",
    "<style>\n",
    ".custom-assignment-text {\n",
    "    background-color: lightyellow;\n",
    "    border: 1px solid darkkhaki; \n",
    "    padding: 10px;\n",
    "    border-radius: 2px\n",
    "}\n",
    "</style>\"\"\")\n",
    "\n",
    "# Fixes space left behind tqdm progress bars with leave=False\n",
    "# see https://github.com/jupyterlab/jupyterlab/issues/7354\n",
    "html(\"\"\"\n",
    "<style>\n",
    ".jp-OutputArea-prompt:empty {\n",
    "  padding: 0;\n",
    "  border: 0;\n",
    "}\n",
    "</style>\n",
    "\"\"\")\n",
    "\n",
    "def display_table(data, title, headers):\n",
    "    \"\"\"Display data in an HTML table inline in the notebook\n",
    "       data: list of lists of values to put in table rows\n",
    "       title: to set table caption\n",
    "       headers: list of table header strings\"\"\"\n",
    "    text = \"<table>\"\n",
    "    text += f\"<caption>{title}</caption>\"\n",
    "    \n",
    "    text += \"<tr>\"\n",
    "    for h in headers:\n",
    "        text += f'<th style=\"text-align:center\">{h}</th>'\n",
    "    text += \"</tr>\"\n",
    "    \n",
    "    for row in data:\n",
    "        text += \"<tr>\"\n",
    "        for value in row:\n",
    "            text += f\"<td>{value}</td>\"\n",
    "        text += \"</tr>\"\n",
    "    text += \"</table>\"\n",
    "    html(text)\n",
    "\n",
    "markdown(\"#### Custom functionality enabled:\")\n",
    "markdown(\"* Format a code cell by entering %%black at the top of it\")\n",
    "markdown(\"* Surround markdown cells with  `<div class=\\\"custom-assignment-text\\\">\\\\n\\\\n ... \\\\n\\\\n</div>` to format course-provided assignment text\")\n",
    "markdown(\"* Use `ok(<message>)` to notify of a passing test\")\n",
    "markdown(\"* Use `assert_globals_clean()` to check that all globals are managed (private, constants, etc.)\")\n",
    "markdown(\"* Use `display_table` to display data in an inline HTML table\")"
   ]
  },
  {
   "cell_type": "markdown",
   "id": "d2f81a08-4804-461b-9468-022fe798dcf8",
   "metadata": {},
   "source": [
    "<div class=\"custom-assignment-text\">\n",
    "\n",
    "## Goal of mini-project\n",
    "\n",
    "In the three problems of this mini-project, you will explore the idea of generalization, i.e., when the test error of a learned prediction function is roughly the same as its training error. You will explore how regularization and the choice of the learning algorithm (gradient descent, stochastic gradient descent, etc.) interact with generalization in a simple linear prediction setting.1 Many aspects of these relationships are still not well understood, and a fierce debate is currently raging within the Machine Learning community about whether our understanding of generalization lacks key components necessary for explaining the unreasonable effectiveness of stochastic gradient descent (particularly in the context of “deep learning”). This week will give you a glimpse of some of these mysteries.\n",
    "\n",
    "</div>"
   ]
  },
  {
   "cell_type": "markdown",
   "id": "c71df7ff-f83a-4b7c-a53d-243289a8ae18",
   "metadata": {},
   "source": [
    "<div class=\"custom-assignment-text\">\n",
    "\n",
    "# Part 1: Regression, Three Ways\n",
    "\n",
    "<!-- LaTeX shortcuts defined first -->$\\def\\a{{\\mathbf a}}\\def\\x{{\\mathbf x}}$We will consider the problem of fitting a linear model. Given $d$-dimensional input data $\\x^{(1)}, \\cdots, \\x^{(n)} ∈ ℝ^d$ with real-valued labels $y^{(1)},\\cdots, y^{(n)} ∈ ℝ$, the goal is to find the coefficient vector $\\a$ that minimizes the sum of the squared errors. The total squared error of $\\a$ can be written as $f(\\a) = \\sum_{i=1}^{n} f_i(\\a)$, where $f_i(\\a)=(\\a^\\top\\x^{(i)} - $ $y^{(i)})^2$ denotes the squared error of the $i$th data point.\n",
    "\n",
    "The data in this problem will be drawn from the following linear model. For the training data, we select $n$ data points $\\x^{(1)}, \\cdots, \\x^{(n)}$, each drawn independently from a $d$-dimensional Gaussian distribution. We then pick the \"true\" coefficient vector $\\a^*$ (again from a $d$-dimensional Gaussian), and give each training point $\\x^{(i)}$ a label equal to $(\\a^*)^\\top\\x^{(i)}$ plus some noise (which is drawn from a 1-dimensional Gaussian distribution).\n",
    "\n",
    "The following Python code will generate the data used in this problem.\n",
    "\n",
    "    d = 100 # dimensions of data\n",
    "    n = 1000 # number of data points\n",
    "    X = np.random.normal(0,1, size=(n,d))\n",
    "    a_true = np.random.normal(0,1, size=(d,1))\n",
    "    y = X.dot(a_true) + np.random.normal(0,0.5,size=(n,1))\n",
    "\n",
    "</div>"
   ]
  },
  {
   "cell_type": "code",
   "execution_count": null,
   "id": "a52a8e2d-5a85-4f88-97ae-0c86c4fb8236",
   "metadata": {},
   "outputs": [],
   "source": [
    "import matplotlib.pyplot as plt\n",
    "import numpy as np\n",
    "from tqdm.notebook import tqdm, trange"
   ]
  },
  {
   "cell_type": "markdown",
   "id": "654cfae3-0076-401c-8998-a87f4923d282",
   "metadata": {},
   "source": [
    "<div class=\"custom-assignment-text\">\n",
    "\n",
    "<!-- LaTeX shortcuts defined first -->$\\def\\X{{\\mathbf X}}\\def\\y{{\\mathbf y}}$(a) (4 points) Least-squares regression has the closed form solution $\\a = (\\X^\\top\\X)^{-1}\\X^\\top\\y$, which minimizes the squared error on the data. (Here $\\X$ is the $n×d$ data matrix as in the code above, with one row per data point, and $y$ is the $n$-vector of their labels.) Solve for $\\a$ and report the value of the objective function using this value $\\a$. For comparison, what is the total squared error if you just set $\\a$ to be the all 0’s vector?\n",
    "\n",
    "Comment: Computing the closed-form solution requires time $O(nd^2+d^3)$, which is slow for large $d$. Although gradient descent methods will not yield an exact solution, they do give a close approximation in much less time. For the purpose of this assignment, you can use the closed form solution as a good sanity check in the following parts.\n",
    "\n",
    "</div>"
   ]
  },
  {
   "cell_type": "code",
   "execution_count": 4,
   "id": "5f88e97d-e91d-49d2-9159-f87521cc7c8b",
   "metadata": {},
   "outputs": [],
   "source": [
    "def get_part1_data():\n",
    "    d = 100 # dimensions of data\n",
    "    n = 1000 # number of data points\n",
    "    X = np.random.normal(0,1, size=(n,d))\n",
    "    a_true = np.random.normal(0,1, size=(d,1))\n",
    "    y = X.dot(a_true) + np.random.normal(0,0.5,size=(n,1))\n",
    "    return X, y\n",
    "PART1_X, PART1_Y = get_part1_data()"
   ]
  },
  {
   "cell_type": "code",
   "execution_count": 5,
   "id": "a4c15642-4d82-4e97-8aca-4ec2e4c6e5ce",
   "metadata": {},
   "outputs": [],
   "source": [
    "def least_squares_regression_closed_form(X, y):\n",
    "    a = np.linalg.inv(X.T @ X) @ X.T @ y\n",
    "    assert a.shape == (X.shape[1], 1)\n",
    "    return a"
   ]
  },
  {
   "cell_type": "code",
   "execution_count": 285,
   "id": "6c24235a-8c82-408c-aaa1-eeb1e64bc045",
   "metadata": {},
   "outputs": [],
   "source": [
    "def error(a, X, y):\n",
    "    assert a.T.shape[1] == X.shape[-1]\n",
    "#     print(a.shape)\n",
    "#     print(X.shape)\n",
    "#     print(y.shape)\n",
    "    assert a.shape[0] == X.shape[1]\n",
    "    return (a.T @ X.T - y.T)\n",
    "\n",
    "def squared_error(a, X, y):\n",
    "    return error(a, X, y)**2\n",
    "\n",
    "def total_squared_error(a, X, y):\n",
    "    return squared_error(a, X, y).sum()\n",
    "\n",
    "def mean_squared_error(a, X, y):\n",
    "    error = squared_error(a, X, y)\n",
    "    return error.sum() / X.shape[1]"
   ]
  },
  {
   "cell_type": "code",
   "execution_count": 286,
   "id": "94bd3e02-a3ac-4c9f-abc0-27f79e8ead9e",
   "metadata": {},
   "outputs": [
    {
     "data": {
      "text/markdown": [
       "* MSE using closed-form solution: 2.1903207123677566"
      ],
      "text/plain": [
       "<IPython.core.display.Markdown object>"
      ]
     },
     "metadata": {},
     "output_type": "display_data"
    },
    {
     "data": {
      "text/markdown": [
       "* MSE using all-zeros solution: 1149.3412035177782"
      ],
      "text/plain": [
       "<IPython.core.display.Markdown object>"
      ]
     },
     "metadata": {},
     "output_type": "display_data"
    }
   ],
   "source": [
    "def _estimate_and_report_errors(X, y):\n",
    "    a_estimate = least_squares_regression_closed_form(X, y)\n",
    "    a_error = mean_squared_error(a_estimate, X, y)\n",
    "    all_zeros_error = mean_squared_error(np.zeros((X.shape[1], 1)), X, y)\n",
    "    markdown(f\"* MSE using closed-form solution: {a_error}\")\n",
    "    markdown(f\"* MSE using all-zeros solution: {all_zeros_error}\")\n",
    "\n",
    "_estimate_and_report_errors(PART1_X, PART1_Y)"
   ]
  },
  {
   "cell_type": "markdown",
   "id": "4fdf2bec-1dbf-4e11-a5af-ea2a5eb0a550",
   "metadata": {},
   "source": [
    "<div class=\"custom-assignment-text\">\n",
    "    \n",
    "(b) (6 points) In this part, you will solve the same problem via gradient descent on the squared-error\n",
    "objective function $f(\\a) = \\sum_{i=1}^n f_i(\\a)$. Recall that the gradient of a sum of functions is the sum of their gradients. Given a point $\\a_t$, what is the gradient of $f$ at $\\a_t$?\n",
    "    \n",
    "Now use gradient descent to find a coefficient vector $\\a$ that approximately minimizes the least squares\n",
    "objective function over the data. Run gradient descent three times, once with each of the step sizes\n",
    "0.00005, 0.0005, and 0.0007. You should initialize $\\a$ to be the all-zero vector for all three runs. Plot the objective function value for 20 iterations for all 3 step sizes on the same graph. Comment in 3-4 sentences on how the step size can affect the convergence of gradient descent (feel free to experiment\n",
    "with other step sizes). Also report the step size that had the best final objective function value and\n",
    "the corresponding objective function value.\n",
    "    \n",
    "</div>"
   ]
  },
  {
   "cell_type": "markdown",
   "id": "2be3d5b5-910f-4187-b853-7dd9df0932a0",
   "metadata": {},
   "source": [
    "The gradient for MSE given in the lecture notes is as follows:\n",
    "\n",
    "$\\nabla f({\\mathbf w}) = \\frac{2}{m}\\sum_{i=1}^m (E_i({\\mathbf w}) \\cdot \\x^{(i)})$, where $E_i({\\mathbf w}) = h_w(\\x^{(i)}) - y^{(i)}$."
   ]
  },
  {
   "cell_type": "code",
   "execution_count": 287,
   "id": "7b601d58-4da4-4740-af75-bbc7c772ddca",
   "metadata": {},
   "outputs": [],
   "source": [
    "def mse_gradient(w, X, y):\n",
    "    \"\"\"Returns the gradient of MSE at w on X and y\"\"\"\n",
    "    w_error = error(w, X, y)\n",
    "    grad = np.dot(w_error, X) * 2 / X.shape[0]\n",
    "    assert grad.shape == (1, X.shape[1])\n",
    "    return grad\n",
    "\n",
    "def gradient_descent(X, y, step_size, iterations):\n",
    "    \"\"\"Returns (weights, [loss for each iteration])\"\"\"\n",
    "    w = np.zeros((X.shape[1], 1))\n",
    "    loss = []\n",
    "    for _ in range(iterations):\n",
    "        gradient = mse_gradient(w, X, y)\n",
    "        mse = mean_squared_error(w, X, y)\n",
    "        loss.append(mse)\n",
    "        update = step_size * gradient.T\n",
    "        w -= update\n",
    "    return w, loss\n",
    "    "
   ]
  },
  {
   "cell_type": "code",
   "execution_count": 288,
   "id": "6bdb4220-c29b-4cfa-a26d-8f3c9f3501cf",
   "metadata": {},
   "outputs": [
    {
     "data": {
      "text/html": [
       "<table><caption>Final MSE by Step-size</caption><tr><th style=\"text-align:center\">Step-size</th><th style=\"text-align:center\">MSE</th></tr><tr><td>5e-05</td><td>1144.3188147774192</td></tr><tr><td>0.0005</td><td>1100.1558098848334</td></tr><tr><td>0.0007</td><td>1081.1144372855397</td></tr><tr><td>0.007</td><td>630.5953339875679</td></tr><tr><td>0.07</td><td>10.981910177782327</td></tr><tr><td>0.1</td><td>3.960269510713023</td></tr><tr><td>0.2</td><td>2.2019854815295195</td></tr><tr><td>0.3</td><td>2.190387566553755</td></tr><tr><td>0.4</td><td>2.190320933398429</td></tr><tr><td>0.5</td><td>2.190416966699528</td></tr><tr><td>0.6</td><td>330.2589934713719</td></tr></table>"
      ],
      "text/plain": [
       "<IPython.core.display.HTML object>"
      ]
     },
     "metadata": {},
     "output_type": "display_data"
    },
    {
     "data": {
      "image/png": "[encoded data removed]",
      "text/plain": [
       "<Figure size 640x480 with 1 Axes>"
      ]
     },
     "metadata": {},
     "output_type": "display_data"
    }
   ],
   "source": [
    "def _run_and_report_gradient_descent(X, y, step_size, ax, iterations=20):\n",
    "    a, loss = gradient_descent(X, y, step_size, iterations)\n",
    "    xticks = range(1, iterations + 1)\n",
    "    ax.plot(xticks, loss, label=step_size)\n",
    "    return loss[-1]\n",
    "\n",
    "def _test_gradient_descent_step_sizes(step_sizes, ideal_loss, iterations=20):\n",
    "    fig, ax = plt.subplots()\n",
    "    ax.set_title(f\"Gradient Descent Performance\")\n",
    "    ax.set_xticks(range(1, iterations + 1))\n",
    "    ax.set_xlabel(\"Iteration\")\n",
    "    ax.set_ylabel(\"Mean Squared Error\")\n",
    "    ax.hlines(ideal_loss, 1, iterations + 1, linestyles='dotted', label=\"Ideal Loss\")\n",
    "    \n",
    "    final_losses = []\n",
    "    for step_size in step_sizes:\n",
    "        final_loss = _run_and_report_gradient_descent(PART1_X, PART1_Y, step_size, ax, iterations)\n",
    "        final_losses.append(final_loss)\n",
    "        \n",
    "    plt.legend(loc=\"best\", title=\"Step-size\")\n",
    "    \n",
    "    display_table(zip(step_sizes, final_losses), \"Final MSE by Step-size\", [\"Step-size\", \"MSE\"])\n",
    "    \n",
    "_test_gradient_descent_step_sizes([0.00005, 0.0005, 0.0007, 0.007, 0.07, 0.1, 0.2, 0.3, 0.4, 0.5, 0.6], 2.1903207123677566)"
   ]
  },
  {
   "cell_type": "markdown",
   "id": "86c67b09-a8ee-4807-bdf4-31bd4707a9ca",
   "metadata": {},
   "source": [
    "Step-sizes .2, .3, .4, and .5 all led to MSE values within 0.01 of the ideal (closed) solution. Higher values, however, led to quicker convergence on this value, with 0.4 being the fastest convering value. 0.5 and higher led to divergence, with 0.7 having such high divergence that it couldn't properly be plotted with the other values."
   ]
  },
  {
   "cell_type": "markdown",
   "id": "6d649e2f-ccec-4a5e-91ac-bad543866cca",
   "metadata": {},
   "source": [
    "<div class=\"custom-assignment-text\">\n",
    "\n",
    "(c) (6 points) In this part you will run _stochastic gradient descent_ to solve the same problem. Recall\n",
    "that in stochastic gradient descent, you pick one datapoint at a time, say $(\\x^{(i)}, y^{(i)})$, and update your current value of $\\a$ according to the gradient of $f_i(\\a) = (\\a\\top \\x^{(i)} - y^{(i)})^2$.\n",
    "    \n",
    "Run stochastic gradient descent using step sizes {0.0005, 0.005, 0.01} and 1000 iterations. Plot the objective function value vs. the iteration number for all 3 step sizes on the same graph. Comment 3-4 sentences on how the step size can affect the convergence of stochastic gradient descent and how it compares to gradient descent. Compare the performance of the two methods. How do the best final objective function values compare? How many times does each algorithm use each data point? Also report the step size that had the best final objective function value and the corresponding objective function value.\n",
    "\n",
    "</div>"
   ]
  },
  {
   "cell_type": "code",
   "execution_count": 329,
   "id": "0eab9bdb-ea10-4eb7-9ca4-ff0a75fccebb",
   "metadata": {},
   "outputs": [],
   "source": [
    "def stochastic_gradient_descent(X, y, step_size, iterations, iter_hook=lambda i, w: None):\n",
    "    \"\"\"Returns (weights, [loss for each iteration])\"\"\"\n",
    "    w = np.zeros((X.shape[1], 1))\n",
    "    for i in trange(iterations, desc=\"SGD Iterations\", leave=False):\n",
    "        row = i % X.shape[0]\n",
    "        gradient = mse_gradient(w, X[row][:,np.newaxis].T, y[row].T)\n",
    "        update = step_size * gradient.T\n",
    "        w -= update\n",
    "        iter_hook(i, w)\n",
    "    return w"
   ]
  },
  {
   "cell_type": "code",
   "execution_count": 332,
   "id": "e34cbb4d-9d43-4720-9f54-7cdc96e3b46e",
   "metadata": {
    "tags": []
   },
   "outputs": [
    {
     "data": {
      "application/vnd.jupyter.widget-view+json": {
       "model_id": "",
       "version_major": 2,
       "version_minor": 0
      },
      "text/plain": [
       "SGD Iterations:   0%|          | 0/1000 [00:00<?, ?it/s]"
      ]
     },
     "metadata": {},
     "output_type": "display_data"
    },
    {
     "data": {
      "application/vnd.jupyter.widget-view+json": {
       "model_id": "",
       "version_major": 2,
       "version_minor": 0
      },
      "text/plain": [
       "SGD Iterations:   0%|          | 0/1000 [00:00<?, ?it/s]"
      ]
     },
     "metadata": {},
     "output_type": "display_data"
    },
    {
     "data": {
      "application/vnd.jupyter.widget-view+json": {
       "model_id": "",
       "version_major": 2,
       "version_minor": 0
      },
      "text/plain": [
       "SGD Iterations:   0%|          | 0/1000 [00:00<?, ?it/s]"
      ]
     },
     "metadata": {},
     "output_type": "display_data"
    },
    {
     "data": {
      "application/vnd.jupyter.widget-view+json": {
       "model_id": "",
       "version_major": 2,
       "version_minor": 0
      },
      "text/plain": [
       "SGD Iterations:   0%|          | 0/1000 [00:00<?, ?it/s]"
      ]
     },
     "metadata": {},
     "output_type": "display_data"
    },
    {
     "data": {
      "text/html": [
       "<table><caption>Final MSE by Step-size</caption><tr><th style=\"text-align:center\">Step-size</th><th style=\"text-align:center\">MSE</th></tr><tr><td>0.0005</td><td>133.50053679048762</td></tr><tr><td>0.005</td><td>4.734079938497954</td></tr><tr><td>0.0025</td><td>3.098268766759398</td></tr><tr><td>0.01</td><td>3548.798794781465</td></tr></table>"
      ],
      "text/plain": [
       "<IPython.core.display.HTML object>"
      ]
     },
     "metadata": {},
     "output_type": "display_data"
    },
    {
     "data": {
      "image/png": "[encoded data removed]",
      "text/plain": [
       "<Figure size 640x480 with 1 Axes>"
      ]
     },
     "metadata": {},
     "output_type": "display_data"
    }
   ],
   "source": [
    "def _run_and_report_sgd(X, y, step_size, ax, iterations=1000):\n",
    "    loss = []\n",
    "    a = stochastic_gradient_descent(X, y, step_size, iterations, lambda i, w: loss.append(mean_squared_error(w, X, y)))\n",
    "    ax.plot(range(iterations), loss, label=step_size)\n",
    "    return loss[-1]\n",
    "\n",
    "def _test_sgd_step_sizes(step_sizes, ideal_loss, iterations=1000):\n",
    "    fig, ax = plt.subplots()\n",
    "    ax.set_title(f\"SGD Performance\")\n",
    "    ax.set_xlabel(\"Iteration\")\n",
    "    ax.set_ylabel(\"Mean Squared Error\")\n",
    "    ax.hlines(ideal_loss, 1, iterations + 1, linestyles='dotted', label=\"Ideal Loss\")\n",
    "    \n",
    "    final_losses = []\n",
    "    for step_size in step_sizes:\n",
    "        final_loss = _run_and_report_sgd(PART1_X, PART1_Y, step_size, ax, iterations)\n",
    "        final_losses.append(final_loss)\n",
    "        \n",
    "    plt.legend(loc=\"best\", title=\"Step-size\")\n",
    "    \n",
    "    display_table(zip(step_sizes, final_losses), \"Final MSE by Step-size\", [\"Step-size\", \"MSE\"])\n",
    "    \n",
    "_test_sgd_step_sizes([0.0005, 0.005, 0.0025, 0.01], 2.1903207123677566)"
   ]
  },
  {
   "cell_type": "markdown",
   "id": "e68f0db7-db8c-437f-adfe-266111e64828",
   "metadata": {},
   "source": [
    "It's interesting to note that for SGD the step size must be much smaller than for basic gradient descent, and it's also much more sensitive to the change in step size. A value of 0.0025 gave optimal performance with 1,000 iterations for this data set. 0.05 was similar in its speed of convergence to its final value, but 0.0025 gave a better MSE. At 0.01, the algorithm already diverges! Overall, the MSE value achieved was not as good as with plain gradient descent, but the difference was not that large (3 instead of 2, on a scale with a maximum in the thousands)."
   ]
  },
  {
   "cell_type": "markdown",
   "id": "672ce6e9-58ac-48c2-8a62-6ddafdb03507",
   "metadata": {},
   "source": [
    "<div class=\"custom-assignment-text\">\n",
    "\n",
    "# Part 2\n",
    "    \n",
    "In the previous problem, the number of data points was much larger than the number of dimensions and hence we did not worry about generalization. (Feel free to check that the coefficient vector $\\a$ that you computed accurately labels new datapoints drawn from the same distribution.) We will now consider the setting where $d = n$, and examine the test error along with the training error. Use the following Python\n",
    "code for generating the training data and test data.\n",
    "\n",
    "    train_n = 100\n",
    "    test_n = 1000\n",
    "    d = 100\n",
    "    X_train = np.random.normal(0,1, size=(train_n,d))\n",
    "    a_true = np.random.normal(0,1, size=(d,1))\n",
    "    y_train = X_train.dot(a_true) + np.random.normal(0,0.5,size=(train_n,1))\n",
    "    X_test = np.random.normal(0,1, size=(test_n,d))\n",
    "    y_test = X_test.dot(a_true) + np.random.normal(0,0.5,size=(test_n,1))\n",
    "\n",
    "</div>"
   ]
  },
  {
   "cell_type": "code",
   "execution_count": 302,
   "id": "be757712-a85a-440b-85fd-ea312c4522f4",
   "metadata": {},
   "outputs": [],
   "source": [
    "def get_part2_data():\n",
    "    train_n = 100\n",
    "    test_n = 1000\n",
    "    d = 100\n",
    "    X_train = np.random.normal(0,1, size=(train_n,d))\n",
    "    a_true = np.random.normal(0,1, size=(d,1))\n",
    "    y_train = X_train.dot(a_true) + np.random.normal(0,0.5,size=(train_n,1))\n",
    "    X_test = np.random.normal(0,1, size=(test_n,d))\n",
    "    y_test = X_test.dot(a_true) + np.random.normal(0,0.5,size=(test_n,1))\n",
    "    return X_train, X_test, y_train, y_test\n",
    "\n",
    "PART2_X_TRAIN, PART2_X_TEST, PART2_Y_TRAIN, PART2_Y_TEST = get_part2_data()"
   ]
  },
  {
   "cell_type": "markdown",
   "id": "6466b515-d64e-4c6b-989d-e800127b0716",
   "metadata": {},
   "source": [
    "<div class=\"custom-assignment-text\">\n",
    "\n",
    "(a) (2 points) We will first setup a baseline, by finding the test error of the linear regression solution $\\a = \\X^{−1}\\y$ without any regularization. This is the closed-form solution for the minimizer of the objective function $f(\\a)$. (Note the formula is simpler than in 1(a) because now $\\X$ is square.) Report the training error and test error of this approach, averaged over 10 trials. For better interpretability, report the normalized test error $\\hat{f}(\\a)$ rather than the value of the objective function $f(\\a)$, where by definition $\\hat{f}(\\a) = \\frac{||\\X\\a - \\y ||_2}{||\\y||_2}$.\n",
    "\n",
    "</div>"
   ]
  },
  {
   "cell_type": "code",
   "execution_count": 327,
   "id": "60fb60af-81de-4ead-8079-b1f03298eebf",
   "metadata": {},
   "outputs": [
    {
     "data": {
      "text/html": [
       "<table><caption>Normalized Errors</caption><tr><th style=\"text-align:center\">Train</th><th style=\"text-align:center\">Test</th></tr><tr><td>1.2213423777173162e-14</td><td>0.3031771982287077</td></tr><tr><td>2.4393701659892197e-14</td><td>0.502417600254028</td></tr><tr><td>1.530668471444974e-14</td><td>0.30239085974525476</td></tr><tr><td>1.1247794303544867e-14</td><td>0.27537279170096907</td></tr><tr><td>1.7498370416646058e-14</td><td>0.40835252983970527</td></tr><tr><td>1.0955518514171155e-13</td><td>3.96881874403599</td></tr><tr><td>1.0166879078267738e-14</td><td>0.29182543144272677</td></tr><tr><td>1.259822695217377e-14</td><td>0.9333168300186573</td></tr><tr><td>1.0651813285437305e-14</td><td>0.37393640957639984</td></tr><tr><td>2.2327678311225348e-14</td><td>0.44634222291640674</td></tr></table>"
      ],
      "text/plain": [
       "<IPython.core.display.HTML object>"
      ]
     },
     "metadata": {},
     "output_type": "display_data"
    },
    {
     "data": {
      "text/markdown": [
       "Mean normalized errors\n",
       "* training: 2.4595975764052173e-14\n",
       "*test: 0.7805950617758846"
      ],
      "text/plain": [
       "<IPython.core.display.Markdown object>"
      ]
     },
     "metadata": {},
     "output_type": "display_data"
    }
   ],
   "source": [
    "def least_squares_regression_square_closed_form(X, y):\n",
    "    # X must be square\n",
    "    assert X.shape[0] == X.shape[1]\n",
    "    a = np.linalg.inv(X) @ y\n",
    "    assert a.shape == (X.shape[0], 1)\n",
    "    return a\n",
    "\n",
    "def normalized_test_error(a, X_test, y):\n",
    "    denominator = np.linalg.norm(X_test @ a - y)\n",
    "    numerator = np.linalg.norm(y)\n",
    "    return (denominator/numerator).item()\n",
    "\n",
    "def _run_least_squares_experiment(trials=10):\n",
    "    train_errors = []\n",
    "    test_errors = []\n",
    "    for i in range(trials):\n",
    "        X_train, X_test, y_train, y_test = get_part2_data()\n",
    "        a = least_squares_regression_square_closed_form(X_train, y_train)\n",
    "        train_errors.append(normalized_test_error(a, X_train, y_train))\n",
    "        test_errors.append(normalized_test_error(a, X_test, y_test))\n",
    "    display_table(zip(train_errors, test_errors), \"Normalized Errors\", [\"Train\", \"Test\"])\n",
    "    markdown(f\"Mean normalized errors\\n* training: {np.mean(train_errors)}\\n*test: {np.mean(test_errors)}\")\n",
    "    \n",
    "_run_least_squares_experiment()"
   ]
  },
  {
   "cell_type": "markdown",
   "id": "c551a1b1-a259-4c96-b4bb-43d40c160d5f",
   "metadata": {},
   "source": [
    "<div class=\"custom-assignment-text\">\n",
    "\n",
    "\n",
    "(b) (5 points) We will now examine $\\ell_2$ regularization as a means to prevent overfitting. The $\\ell_2$ regularized objective function is given by the following expression: $$\\sum_{i=1}^m (\\a^\\top\\x^{(i)}-y^{(i)})^2 + \\lambda ||\\a||^2_2.$$ This has a closed-form solution $\\a = (\\X^\\top\\X + \\lambda \\mathbf I)^{-1}\\X^\\top\\y$. Using this closed-form solution, present a plot of the normalized training error and normalized test error $\\hat{f}(\\a)$ for λ = {0.0005, 0.005, 0.05, 0.5, 5, 50, 500}.\n",
    "As before, you should average over 10 trials. Discuss the characteristics of your plot, and also compare it to your answer to (a).\n",
    "\n",
    "</div>"
   ]
  },
  {
   "cell_type": "code",
   "execution_count": 304,
   "id": "6e86a158-a507-4e75-8fe4-46a153d62861",
   "metadata": {},
   "outputs": [],
   "source": [
    "def regularized_least_squares_closed_form(X, y, lambda_):\n",
    "    a = np.linalg.inv(X.T @ X + lambda_ * np.eye(X.shape[0])) @ X.T @ y\n",
    "    assert a.shape == (X.shape[-1], 1)\n",
    "    return a"
   ]
  },
  {
   "cell_type": "code",
   "execution_count": 305,
   "id": "6e200beb-deb7-4e3c-b321-74fc8acc0d86",
   "metadata": {},
   "outputs": [
    {
     "data": {
      "image/png": "[encoded data removed]",
      "text/plain": [
       "<Figure size 640x480 with 1 Axes>"
      ]
     },
     "metadata": {},
     "output_type": "display_data"
    }
   ],
   "source": [
    "def _run_experiment(lambda_, trials=10):\n",
    "    errors = []\n",
    "    for i in range(trials):\n",
    "        X_train, X_test, y_train, y_test = get_part2_data()\n",
    "        a = regularized_least_squares_closed_form(X_train, y_train, lambda_)\n",
    "        error = normalized_test_error(a, X_test, y_test)\n",
    "        errors.append([error])\n",
    "    return np.mean(errors)\n",
    "\n",
    "def _run_least_squares_regularized_experiment():\n",
    "    lambdas = [0.00005, 0.0005, 0.005, 0.05, 0.5, 5, 50, 500]\n",
    "    errors = []\n",
    "    for lambda_ in lambdas:\n",
    "        error = _run_experiment(lambda_)\n",
    "        errors.append(error)\n",
    "    \n",
    "    fig, ax = plt.subplots()\n",
    "    ax.set_title(f\"Regularized LR Performance\")\n",
    "    ax.set_xlabel(\"Lambda\")\n",
    "    ax.set_xscale(\"log\")\n",
    "    ax.set_ylabel(\"Normalized Test Error\")\n",
    "    ax.plot(lambdas, errors)\n",
    "    \n",
    "_run_least_squares_regularized_experiment()"
   ]
  },
  {
   "cell_type": "markdown",
   "id": "155c6fb6-867b-46aa-b03c-b882c6ccbf35",
   "metadata": {},
   "source": [
    "The plot is much easier to analyze with the $\\lambda$ values plotted logarithmically. Values of $\\lambda$ too low or too high lead to a higher error value; however, all of the $\\lambda$ values tested gave a lower error value than in (a), suggesting that regularization is beneficial even when it hasn't been optimized. The sweet spot is at $\\lambda = 0.5$, where the error is 10x less than what it was for the unregularized experiments in (a)."
   ]
  },
  {
   "cell_type": "markdown",
   "id": "635180b3-832f-4287-a5d1-774a213e6881",
   "metadata": {},
   "source": [
    "<div class=\"custom-assignment-text\">\n",
    "\n",
    "\n",
    "(c) (5 points) Run stochastic gradient descent (SGD) on the original objective function $f(\\a)$, with the initial guess of a set to be the all 0’s vector. Run SGD for 1,000,000 iterations for each different choice of the step size, {0.00005, 0.0005, 0.005}. Report the normalized training error and the normalized test error for each of these three settings, averaged over 10 repetitions/trials. How does the SGD solution compare with the solutions obtained using $\\ell_2$ regularization? Note that SGD is minimizing the original objective function, which does not have any regularization. In Part (a) of this problem, we found the optimal solution to the original objective function with respect to the training data. How does the training and test error of the SGD solutions compare with those of the solution in (a)? Can you explain your observations? (It may be helpful to also compute the normalized training and test error\n",
    "corresponding to the true coefficient vector $f(\\a^*)$, for comparison.)\n",
    "\n",
    "\n",
    "</div>"
   ]
  },
  {
   "cell_type": "code",
   "execution_count": 333,
   "id": "14519d42-a11e-4286-8634-1f5e2e6ec735",
   "metadata": {},
   "outputs": [
    {
     "data": {
      "application/vnd.jupyter.widget-view+json": {
       "model_id": "c081890a876a44c8a2ed1e952dbdd31c",
       "version_major": 2,
       "version_minor": 0
      },
      "text/plain": [
       "Step sizes:   0%|          | 0/3 [00:00<?, ?it/s]"
      ]
     },
     "metadata": {},
     "output_type": "display_data"
    },
    {
     "data": {
      "application/vnd.jupyter.widget-view+json": {
       "model_id": "",
       "version_major": 2,
       "version_minor": 0
      },
      "text/plain": [
       "Trials:   0%|          | 0/10 [00:00<?, ?it/s]"
      ]
     },
     "metadata": {},
     "output_type": "display_data"
    },
    {
     "data": {
      "application/vnd.jupyter.widget-view+json": {
       "model_id": "",
       "version_major": 2,
       "version_minor": 0
      },
      "text/plain": [
       "SGD Iterations:   0%|          | 0/1000000 [00:00<?, ?it/s]"
      ]
     },
     "metadata": {},
     "output_type": "display_data"
    },
    {
     "data": {
      "application/vnd.jupyter.widget-view+json": {
       "model_id": "",
       "version_major": 2,
       "version_minor": 0
      },
      "text/plain": [
       "SGD Iterations:   0%|          | 0/1000000 [00:00<?, ?it/s]"
      ]
     },
     "metadata": {},
     "output_type": "display_data"
    },
    {
     "data": {
      "application/vnd.jupyter.widget-view+json": {
       "model_id": "",
       "version_major": 2,
       "version_minor": 0
      },
      "text/plain": [
       "SGD Iterations:   0%|          | 0/1000000 [00:00<?, ?it/s]"
      ]
     },
     "metadata": {},
     "output_type": "display_data"
    },
    {
     "data": {
      "application/vnd.jupyter.widget-view+json": {
       "model_id": "",
       "version_major": 2,
       "version_minor": 0
      },
      "text/plain": [
       "SGD Iterations:   0%|          | 0/1000000 [00:00<?, ?it/s]"
      ]
     },
     "metadata": {},
     "output_type": "display_data"
    },
    {
     "data": {
      "application/vnd.jupyter.widget-view+json": {
       "model_id": "",
       "version_major": 2,
       "version_minor": 0
      },
      "text/plain": [
       "SGD Iterations:   0%|          | 0/1000000 [00:00<?, ?it/s]"
      ]
     },
     "metadata": {},
     "output_type": "display_data"
    },
    {
     "data": {
      "application/vnd.jupyter.widget-view+json": {
       "model_id": "",
       "version_major": 2,
       "version_minor": 0
      },
      "text/plain": [
       "SGD Iterations:   0%|          | 0/1000000 [00:00<?, ?it/s]"
      ]
     },
     "metadata": {},
     "output_type": "display_data"
    },
    {
     "data": {
      "application/vnd.jupyter.widget-view+json": {
       "model_id": "",
       "version_major": 2,
       "version_minor": 0
      },
      "text/plain": [
       "SGD Iterations:   0%|          | 0/1000000 [00:00<?, ?it/s]"
      ]
     },
     "metadata": {},
     "output_type": "display_data"
    },
    {
     "data": {
      "application/vnd.jupyter.widget-view+json": {
       "model_id": "",
       "version_major": 2,
       "version_minor": 0
      },
      "text/plain": [
       "SGD Iterations:   0%|          | 0/1000000 [00:00<?, ?it/s]"
      ]
     },
     "metadata": {},
     "output_type": "display_data"
    },
    {
     "data": {
      "application/vnd.jupyter.widget-view+json": {
       "model_id": "",
       "version_major": 2,
       "version_minor": 0
      },
      "text/plain": [
       "SGD Iterations:   0%|          | 0/1000000 [00:00<?, ?it/s]"
      ]
     },
     "metadata": {},
     "output_type": "display_data"
    },
    {
     "data": {
      "application/vnd.jupyter.widget-view+json": {
       "model_id": "",
       "version_major": 2,
       "version_minor": 0
      },
      "text/plain": [
       "SGD Iterations:   0%|          | 0/1000000 [00:00<?, ?it/s]"
      ]
     },
     "metadata": {},
     "output_type": "display_data"
    },
    {
     "data": {
      "application/vnd.jupyter.widget-view+json": {
       "model_id": "",
       "version_major": 2,
       "version_minor": 0
      },
      "text/plain": [
       "Trials:   0%|          | 0/10 [00:00<?, ?it/s]"
      ]
     },
     "metadata": {},
     "output_type": "display_data"
    },
    {
     "data": {
      "application/vnd.jupyter.widget-view+json": {
       "model_id": "",
       "version_major": 2,
       "version_minor": 0
      },
      "text/plain": [
       "SGD Iterations:   0%|          | 0/1000000 [00:00<?, ?it/s]"
      ]
     },
     "metadata": {},
     "output_type": "display_data"
    },
    {
     "data": {
      "application/vnd.jupyter.widget-view+json": {
       "model_id": "",
       "version_major": 2,
       "version_minor": 0
      },
      "text/plain": [
       "SGD Iterations:   0%|          | 0/1000000 [00:00<?, ?it/s]"
      ]
     },
     "metadata": {},
     "output_type": "display_data"
    },
    {
     "data": {
      "application/vnd.jupyter.widget-view+json": {
       "model_id": "",
       "version_major": 2,
       "version_minor": 0
      },
      "text/plain": [
       "SGD Iterations:   0%|          | 0/1000000 [00:00<?, ?it/s]"
      ]
     },
     "metadata": {},
     "output_type": "display_data"
    },
    {
     "data": {
      "application/vnd.jupyter.widget-view+json": {
       "model_id": "",
       "version_major": 2,
       "version_minor": 0
      },
      "text/plain": [
       "SGD Iterations:   0%|          | 0/1000000 [00:00<?, ?it/s]"
      ]
     },
     "metadata": {},
     "output_type": "display_data"
    },
    {
     "data": {
      "application/vnd.jupyter.widget-view+json": {
       "model_id": "",
       "version_major": 2,
       "version_minor": 0
      },
      "text/plain": [
       "SGD Iterations:   0%|          | 0/1000000 [00:00<?, ?it/s]"
      ]
     },
     "metadata": {},
     "output_type": "display_data"
    },
    {
     "data": {
      "application/vnd.jupyter.widget-view+json": {
       "model_id": "",
       "version_major": 2,
       "version_minor": 0
      },
      "text/plain": [
       "SGD Iterations:   0%|          | 0/1000000 [00:00<?, ?it/s]"
      ]
     },
     "metadata": {},
     "output_type": "display_data"
    },
    {
     "data": {
      "application/vnd.jupyter.widget-view+json": {
       "model_id": "",
       "version_major": 2,
       "version_minor": 0
      },
      "text/plain": [
       "SGD Iterations:   0%|          | 0/1000000 [00:00<?, ?it/s]"
      ]
     },
     "metadata": {},
     "output_type": "display_data"
    },
    {
     "data": {
      "application/vnd.jupyter.widget-view+json": {
       "model_id": "",
       "version_major": 2,
       "version_minor": 0
      },
      "text/plain": [
       "SGD Iterations:   0%|          | 0/1000000 [00:00<?, ?it/s]"
      ]
     },
     "metadata": {},
     "output_type": "display_data"
    },
    {
     "data": {
      "application/vnd.jupyter.widget-view+json": {
       "model_id": "",
       "version_major": 2,
       "version_minor": 0
      },
      "text/plain": [
       "SGD Iterations:   0%|          | 0/1000000 [00:00<?, ?it/s]"
      ]
     },
     "metadata": {},
     "output_type": "display_data"
    },
    {
     "data": {
      "application/vnd.jupyter.widget-view+json": {
       "model_id": "",
       "version_major": 2,
       "version_minor": 0
      },
      "text/plain": [
       "SGD Iterations:   0%|          | 0/1000000 [00:00<?, ?it/s]"
      ]
     },
     "metadata": {},
     "output_type": "display_data"
    },
    {
     "data": {
      "application/vnd.jupyter.widget-view+json": {
       "model_id": "",
       "version_major": 2,
       "version_minor": 0
      },
      "text/plain": [
       "Trials:   0%|          | 0/10 [00:00<?, ?it/s]"
      ]
     },
     "metadata": {},
     "output_type": "display_data"
    },
    {
     "data": {
      "application/vnd.jupyter.widget-view+json": {
       "model_id": "",
       "version_major": 2,
       "version_minor": 0
      },
      "text/plain": [
       "SGD Iterations:   0%|          | 0/1000000 [00:00<?, ?it/s]"
      ]
     },
     "metadata": {},
     "output_type": "display_data"
    },
    {
     "data": {
      "application/vnd.jupyter.widget-view+json": {
       "model_id": "",
       "version_major": 2,
       "version_minor": 0
      },
      "text/plain": [
       "SGD Iterations:   0%|          | 0/1000000 [00:00<?, ?it/s]"
      ]
     },
     "metadata": {},
     "output_type": "display_data"
    },
    {
     "data": {
      "application/vnd.jupyter.widget-view+json": {
       "model_id": "",
       "version_major": 2,
       "version_minor": 0
      },
      "text/plain": [
       "SGD Iterations:   0%|          | 0/1000000 [00:00<?, ?it/s]"
      ]
     },
     "metadata": {},
     "output_type": "display_data"
    },
    {
     "data": {
      "application/vnd.jupyter.widget-view+json": {
       "model_id": "",
       "version_major": 2,
       "version_minor": 0
      },
      "text/plain": [
       "SGD Iterations:   0%|          | 0/1000000 [00:00<?, ?it/s]"
      ]
     },
     "metadata": {},
     "output_type": "display_data"
    },
    {
     "data": {
      "application/vnd.jupyter.widget-view+json": {
       "model_id": "",
       "version_major": 2,
       "version_minor": 0
      },
      "text/plain": [
       "SGD Iterations:   0%|          | 0/1000000 [00:00<?, ?it/s]"
      ]
     },
     "metadata": {},
     "output_type": "display_data"
    },
    {
     "data": {
      "application/vnd.jupyter.widget-view+json": {
       "model_id": "",
       "version_major": 2,
       "version_minor": 0
      },
      "text/plain": [
       "SGD Iterations:   0%|          | 0/1000000 [00:00<?, ?it/s]"
      ]
     },
     "metadata": {},
     "output_type": "display_data"
    },
    {
     "data": {
      "application/vnd.jupyter.widget-view+json": {
       "model_id": "",
       "version_major": 2,
       "version_minor": 0
      },
      "text/plain": [
       "SGD Iterations:   0%|          | 0/1000000 [00:00<?, ?it/s]"
      ]
     },
     "metadata": {},
     "output_type": "display_data"
    },
    {
     "data": {
      "application/vnd.jupyter.widget-view+json": {
       "model_id": "",
       "version_major": 2,
       "version_minor": 0
      },
      "text/plain": [
       "SGD Iterations:   0%|          | 0/1000000 [00:00<?, ?it/s]"
      ]
     },
     "metadata": {},
     "output_type": "display_data"
    },
    {
     "data": {
      "application/vnd.jupyter.widget-view+json": {
       "model_id": "",
       "version_major": 2,
       "version_minor": 0
      },
      "text/plain": [
       "SGD Iterations:   0%|          | 0/1000000 [00:00<?, ?it/s]"
      ]
     },
     "metadata": {},
     "output_type": "display_data"
    },
    {
     "data": {
      "application/vnd.jupyter.widget-view+json": {
       "model_id": "",
       "version_major": 2,
       "version_minor": 0
      },
      "text/plain": [
       "SGD Iterations:   0%|          | 0/1000000 [00:00<?, ?it/s]"
      ]
     },
     "metadata": {},
     "output_type": "display_data"
    },
    {
     "data": {
      "text/html": [
       "<table><caption>SGD Performance</caption><tr><th style=\"text-align:center\">Step-size</th><th style=\"text-align:center\">Train Error</th><th style=\"text-align:center\">Test Error</th></tr><tr><td>5e-05</td><td>0.02248841297676415</td><td>0.21500208621155573</td></tr><tr><td>0.0005</td><td>0.008656087336360559</td><td>0.40363006702150395</td></tr><tr><td>0.005</td><td>0.0001211792698053536</td><td>0.6824190578271975</td></tr></table>"
      ],
      "text/plain": [
       "<IPython.core.display.HTML object>"
      ]
     },
     "metadata": {},
     "output_type": "display_data"
    }
   ],
   "source": [
    "def _run_sgd_experiment(X_train, X_test, y_train, y_test, step_size, iterations, trials=10):\n",
    "    train_error = []\n",
    "    test_error = []\n",
    "    for _ in trange(trials, desc=\"Trials\", leave=False):\n",
    "        a = stochastic_gradient_descent(X_train, y_train, step_size, iterations)\n",
    "        train_error.append(normalized_test_error(a, X_train, y_train))\n",
    "        test_error.append(normalized_test_error(a, X_test, y_test))\n",
    "        \n",
    "    return np.mean(train_error), np.mean(test_error)\n",
    "\n",
    "def _test_and_report_sgd_step_sizes():\n",
    "    data = []\n",
    "    for step_size in tqdm([0.00005, 0.0005, 0.005], desc=\"Step sizes\"):\n",
    "        train_error, test_error = _run_sgd_experiment(PART2_X_TRAIN, PART2_X_TEST, PART2_Y_TRAIN, PART2_Y_TEST, step_size, 1_000_000)\n",
    "        data.append([step_size, train_error, test_error])\n",
    "    display_table(data, \"SGD Performance\", [\"Step-size\", \"Train Error\", \"Test Error\"])\n",
    "    \n",
    "_test_and_report_sgd_step_sizes()"
   ]
  },
  {
   "cell_type": "markdown",
   "id": "a403f098-7e9f-4393-a72f-b4f4909f8cd2",
   "metadata": {},
   "source": [
    "The training error is much lower for the closed-form solution, but SGD outperforms the closed-form solution on test error. Interestingly, the SGD training error goes down as the step-size grows, but the test error goes up. This suggests to me that larger step-sizes allow SGD to fit the data more closely, leading to overfitting. This means that, in a way, a smaller step-size for SGD acts as a regularizer."
   ]
  },
  {
   "cell_type": "markdown",
   "id": "e4298140-bd90-4cc8-9525-749d84ae079d",
   "metadata": {},
   "source": [
    "<div class=\"custom-assignment-text\">\n",
    "\n",
    "\n",
    "(d) (7 points) We will now examine the behavior of SGD in more detail. For step sizes {0.00005, 0.005} and 1,000,000 iterations of SGD,\n",
    "    \n",
    "* (i) Plot the normalized training error vs. the iteration number. On the plot of training error, draw a line parallel to the x-axis indicating the error $\\hat{f}(\\a^*)$ of the true model $\\a^*$.\n",
    "* (ii) Plot the normalized test error vs. the iteration number. Your code might take a long time to run if you compute the test error after every SGD step—feel free to compute the test error every 100 iterations of SGD to make the plots.\n",
    "* (iii) Plot the $\\ell_2$ norm of the SGD solution vs. the iteration number.\n",
    "\n",
    "Comment on the plots. What can you say about the generalization ability of SGD with different step sizes? Does the plot correspond to the intuition that a learning algorithm starts to overfit when the training error becomes too small, i.e. smaller than the noise level of the true model? How does the generalization ability of the final solution depend on the $\\ell_2$ norm of the final solution?\n",
    "\n",
    "</div>"
   ]
  },
  {
   "cell_type": "code",
   "execution_count": 355,
   "id": "865082f3-e2d3-4036-baf6-02419e92e50c",
   "metadata": {},
   "outputs": [
    {
     "data": {
      "application/vnd.jupyter.widget-view+json": {
       "model_id": "",
       "version_major": 2,
       "version_minor": 0
      },
      "text/plain": [
       "Step Sizes: 0it [00:00, ?it/s]"
      ]
     },
     "metadata": {},
     "output_type": "display_data"
    },
    {
     "data": {
      "application/vnd.jupyter.widget-view+json": {
       "model_id": "",
       "version_major": 2,
       "version_minor": 0
      },
      "text/plain": [
       "SGD Iterations:   0%|          | 0/1000000 [00:00<?, ?it/s]"
      ]
     },
     "metadata": {},
     "output_type": "display_data"
    },
    {
     "data": {
      "application/vnd.jupyter.widget-view+json": {
       "model_id": "",
       "version_major": 2,
       "version_minor": 0
      },
      "text/plain": [
       "SGD Iterations:   0%|          | 0/1000000 [00:00<?, ?it/s]"
      ]
     },
     "metadata": {},
     "output_type": "display_data"
    },
    {
     "data": {
      "image/png": "[encoded data removed]",
      "text/plain": [
       "<Figure size 1200x900 with 6 Axes>"
      ]
     },
     "metadata": {},
     "output_type": "display_data"
    }
   ],
   "source": [
    "def _run_sgd_experiment(X_train, X_test, y_train, y_test, step_size, iterations):\n",
    "    train_error = []\n",
    "    test_error = []\n",
    "    l2_norm = []\n",
    "    plot_data = {\"train_error\": [], \"test_error\": [], \"l2_norm\": [], \"x-ticks\": []}\n",
    "    def record_plot_data(i, w):\n",
    "        if i % 100 == 0:\n",
    "            plot_data[\"train_error\"].append(normalized_test_error(w, X_train, y_train))\n",
    "            plot_data[\"test_error\"].append(normalized_test_error(w, X_test, y_test))\n",
    "            plot_data[\"l2_norm\"].append(np.linalg.norm(w))\n",
    "            plot_data[\"x-ticks\"].append(i)\n",
    "            \n",
    "    stochastic_gradient_descent(X_train, y_train, step_size, iterations, iter_hook=record_plot_data)\n",
    "    return plot_data\n",
    "\n",
    "def _plot_sgd_iterations(iterations):\n",
    "    step_sizes = [0.00005, 0.005]\n",
    "    \n",
    "    fig, axs = plt.subplots(3, len(step_sizes), figsize=(12, 9), sharex=True, sharey=\"row\")\n",
    "    fig.suptitle(\"SGD performance\")\n",
    "    for ax in axs.flat:\n",
    "        ax.set_xlabel(\"iteration\")\n",
    "        \n",
    "    for i, step_size in tqdm(enumerate([0.00005, 0.005]), desc=\"Step Sizes\", leave=False):\n",
    "        plot_data = _run_sgd_experiment(PART2_X_TRAIN, PART2_X_TEST, PART2_Y_TRAIN, PART2_Y_TEST, step_size, iterations)\n",
    "        x_ticks = plot_data[\"x-ticks\"]\n",
    "        \n",
    "        axs[0, i].set_title(f\"Step-size={step_size}\")\n",
    "        axs[0, i].plot(x_ticks, plot_data[\"train_error\"])\n",
    "        axs[0, i].set_ylabel(\"training error\")\n",
    "        \n",
    "        axs[1, i].plot(x_ticks, plot_data[\"test_error\"])\n",
    "        axs[1, i].set_ylabel(\"test error\")\n",
    "        \n",
    "        axs[2, i].plot(x_ticks, plot_data[\"l2_norm\"])\n",
    "        axs[2, i].set_ylabel(\"$\\ell_2$ norm\")\n",
    "        \n",
    "        for j in range(3):\n",
    "            axs[j, i].label_outer()\n",
    "\n",
    "_plot_sgd_iterations(1_000_000)"
   ]
  },
  {
   "cell_type": "markdown",
   "id": "883fc252-635e-4e7a-b2c2-91e9c0a250ec",
   "metadata": {},
   "source": [
    "SGD appears to generalize better with smaller step sizes. The smaller step size leads to higher training error, lower test error, and a lower $\\ell_2$ norm. The higher step-size drops the training data to close to 0 almost immediately, but the test error actually rises over time, approaching a much higher value in the limit than with the small step-size. If this holds more generally, then the observation is quite useful because it gives us a heuristic for knowing when we have chosen a step-size too large. I believe the intuition that a learning algorithm starts to overfit when the training error becomes too small is born out here. \n",
    "\n",
    "It appears that the higher step-size finds very generalizable weights very quickly; the test error matches that of the smaller step-size in later iterations, and the comparison is the same for the $\\ell_2$ norm. The $\\ell_2$ norm quickly hits the same value approached with the smaller step-size in later iterations; however, it then rises steadily along with the test error. It's quite interesting to see that there really appears to be a true ideal $\\ell_2$ norm, which is approached in the limit using the smaller step-size and is quickly blown past with the larger step size. SGD with smaller step-size really seems to be approximating the $\\ell_2$-regularized loss function. I guess that adding smaller gradient values to $\\a$ leads to smaller, more conservative estimations of the weights of $\\a$, similar to what we model explicitly via $\\ell_2$-regularization."
   ]
  },
  {
   "cell_type": "markdown",
   "id": "649d3a4d-e311-4135-ad74-73685ff7644b",
   "metadata": {},
   "source": [
    "<div class=\"custom-assignment-text\">\n",
    "\n",
    "(e) (4 points) We will now examine the effect of the starting point on the SGD solution. Fixing the step size at 0.00005 and the maximum number of iterations at 1,000,000, choose the initial point randomly from the $d$-dimensional sphere with radius $r = ${0, 0.1, 0.5, 1, 10, 20, 30}, and plot the average normalized training error and the average normalized test error over 10 trials vs $r$. Comment on the results, in relation to the results from part (b) where you explored different $\\ell_2$ regularization coefficients. Can you provide an explanation for the behavior seen in this plot?\n",
    "\n",
    "</div>"
   ]
  },
  {
   "cell_type": "code",
   "execution_count": null,
   "id": "19326902-fc64-4193-bb70-b413180f4496",
   "metadata": {},
   "outputs": [],
   "source": []
  }
 ],
 "metadata": {
  "kernelspec": {
   "display_name": "Python 3",
   "language": "python",
   "name": "python3"
  },
  "language_info": {
   "codemirror_mode": {
    "name": "ipython",
    "version": 3
   },
   "file_extension": ".py",
   "mimetype": "text/x-python",
   "name": "python",
   "nbconvert_exporter": "python",
   "pygments_lexer": "ipython3",
   "version": "3.9.2"
  }
 },
 "nbformat": 4,
 "nbformat_minor": 5
}
