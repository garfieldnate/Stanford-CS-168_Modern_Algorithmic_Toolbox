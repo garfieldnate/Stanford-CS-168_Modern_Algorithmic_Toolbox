{
 "cells": [
  {
   "cell_type": "code",
   "execution_count": 13,
   "id": "3834d5f8-3920-4567-9293-3b1be20cbcb2",
   "metadata": {},
   "outputs": [
    {
     "data": {
      "text/html": [
       "\n",
       "<style>\n",
       ".custom-assignment-text {\n",
       "    background-color: lightyellow;\n",
       "    border: 1px solid darkkhaki; \n",
       "    padding: 10px;\n",
       "    border-radius: 2px\n",
       "}\n",
       "</style>"
      ],
      "text/plain": [
       "<IPython.core.display.HTML object>"
      ]
     },
     "metadata": {},
     "output_type": "display_data"
    },
    {
     "data": {
      "text/html": [
       "\n",
       "<style>\n",
       ".jp-OutputArea-prompt:empty {\n",
       "  padding: 0;\n",
       "  border: 0;\n",
       "}\n",
       "</style>\n"
      ],
      "text/plain": [
       "<IPython.core.display.HTML object>"
      ]
     },
     "metadata": {},
     "output_type": "display_data"
    },
    {
     "data": {
      "text/markdown": [
       "#### Custom functionality enabled:"
      ],
      "text/plain": [
       "<IPython.core.display.Markdown object>"
      ]
     },
     "metadata": {},
     "output_type": "display_data"
    },
    {
     "data": {
      "text/markdown": [
       "* Format a code cell by entering `%%black` at the top of it"
      ],
      "text/plain": [
       "<IPython.core.display.Markdown object>"
      ]
     },
     "metadata": {},
     "output_type": "display_data"
    },
    {
     "data": {
      "text/markdown": [
       "* Surround markdown cells with  `<div class=\"custom-assignment-text\">\\n\\n ... \\n\\n</div>` to format course-provided assignment text"
      ],
      "text/plain": [
       "<IPython.core.display.Markdown object>"
      ]
     },
     "metadata": {},
     "output_type": "display_data"
    },
    {
     "data": {
      "text/markdown": [
       "* Use `ok(<message>)` to notify of a passing test"
      ],
      "text/plain": [
       "<IPython.core.display.Markdown object>"
      ]
     },
     "metadata": {},
     "output_type": "display_data"
    },
    {
     "data": {
      "text/markdown": [
       "* Use `assert_globals_clean()` to check that all globals are managed (private, constants, etc.)"
      ],
      "text/plain": [
       "<IPython.core.display.Markdown object>"
      ]
     },
     "metadata": {},
     "output_type": "display_data"
    },
    {
     "data": {
      "text/markdown": [
       "* Use `display_table` to display data in an inline HTML table"
      ],
      "text/plain": [
       "<IPython.core.display.Markdown object>"
      ]
     },
     "metadata": {},
     "output_type": "display_data"
    }
   ],
   "source": [
    "###########\n",
    "# PRELUDE #\n",
    "###########\n",
    "\n",
    "# auto-reload changed python files\n",
    "%load_ext autoreload\n",
    "%autoreload 2\n",
    "\n",
    "# Format cells with %%black\n",
    "%load_ext blackcellmagic\n",
    "\n",
    "# nice interactive plots\n",
    "%matplotlib inline\n",
    "\n",
    "import matplotlib\n",
    "# enable more math expressions in matplotlib labels\n",
    "matplotlib.rcParams['text.latex.preamble'] = r\"\\usepackage{amsmath}\"\n",
    "# no blurry plots!\n",
    "%config InlineBackend.figure_format = 'retina'\n",
    "\n",
    "# add repository directory to include path\n",
    "from pathlib import Path\n",
    "import sys\n",
    "PROJECT_DIR = Path('../..').resolve()\n",
    "sys.path.append(str(PROJECT_DIR))\n",
    "\n",
    "import inspect\n",
    "def _acceptable_global(name, value):\n",
    "    \"\"\"Returns True if a global variable with name/value can be safely ignored\"\"\"\n",
    "    return (\n",
    "        # stuff that's normal to share everywhere\n",
    "        inspect.isroutine(value) or\n",
    "        inspect.isclass(value) or\n",
    "        inspect.ismodule(value) or\n",
    "        # leading underscore marks private variables\n",
    "        name.startswith('_') or\n",
    "        # all-caps names indicate constants\n",
    "        name.upper() == name or\n",
    "        # ignore IPython stuff\n",
    "        name in {'In', 'Out'} or \n",
    "        getattr(value, '__module__', '').startswith('IPython'))\n",
    "\n",
    "def assert_globals_clean():\n",
    "    \"\"\"Raises an assertion error if there are unmanaged global variables.\n",
    "       Variables that are considered 'managed' include those formatted with \n",
    "       ALL_CAPS (constants), _a_leading_underscore (recognized as a global but at\n",
    "       least indicated as private to the cell), classes and modules, automatic\n",
    "       imports from IPython, and functions generally.\"\"\"\n",
    "    unmanaged_globals = {k:type(v) for k, v in globals().items() if not _acceptable_global(k, v)}\n",
    "    if unmanaged_globals != {}:\n",
    "        raise AssertionError(f\"Unmanaged globals found: {unmanaged_globals}\")\n",
    "    ok(\"No unmanaged globals detected\")\n",
    "\n",
    "from IPython.display import display, Markdown, HTML\n",
    "\n",
    "def markdown(s):\n",
    "    return display(Markdown(s))\n",
    "\n",
    "def html(s):\n",
    "    return display(HTML(s))\n",
    "\n",
    "def ok(message=\"OK\"):\n",
    "    html(f\"<div class=\\\"alert alert-block alert-success\\\">{message}</div>\")\n",
    "\n",
    "html(\"\"\"\n",
    "<style>\n",
    ".custom-assignment-text {\n",
    "    background-color: lightyellow;\n",
    "    border: 1px solid darkkhaki; \n",
    "    padding: 10px;\n",
    "    border-radius: 2px\n",
    "}\n",
    "</style>\"\"\")\n",
    "\n",
    "# Fixes space left behind tqdm progress bars with leave=False\n",
    "# see https://github.com/jupyterlab/jupyterlab/issues/7354\n",
    "html(\"\"\"\n",
    "<style>\n",
    ".jp-OutputArea-prompt:empty {\n",
    "  padding: 0;\n",
    "  border: 0;\n",
    "}\n",
    "</style>\n",
    "\"\"\")\n",
    "\n",
    "def display_table(data, title, headers):\n",
    "    \"\"\"Display data in an HTML table inline in the notebook\n",
    "       data: list of lists of values to put in table rows\n",
    "       title: to set table caption\n",
    "       headers: list of table header strings\"\"\"\n",
    "    text = \"<table>\"\n",
    "    text += f\"<caption style='font-weight: bold; font-size: large'>{title}</caption>\"\n",
    "    \n",
    "    text += \"<tr>\"\n",
    "    for h in headers:\n",
    "        text += f'<th style=\"text-align:center\">{h}</th>'\n",
    "    text += \"</tr>\"\n",
    "    \n",
    "    for row in data:\n",
    "        text += \"<tr>\"\n",
    "        for value in row:\n",
    "            text += f\"<td>{value}</td>\"\n",
    "        text += \"</tr>\"\n",
    "    text += \"</table>\"\n",
    "    html(text)\n",
    "\n",
    "markdown(\"#### Custom functionality enabled:\")\n",
    "markdown(\"* Format a code cell by entering `%%black` at the top of it\")\n",
    "markdown(\"* Surround markdown cells with  `<div class=\\\"custom-assignment-text\\\">\\\\n\\\\n ... \\\\n\\\\n</div>` to format course-provided assignment text\")\n",
    "markdown(\"* Use `ok(<message>)` to notify of a passing test\")\n",
    "markdown(\"* Use `assert_globals_clean()` to check that all globals are managed (private, constants, etc.)\")\n",
    "markdown(\"* Use `display_table` to display data in an inline HTML table\")"
   ]
  },
  {
   "cell_type": "markdown",
   "id": "3d455bf5-c3e4-4a83-a2ce-c57e13260280",
   "metadata": {},
   "source": [
    "<div class=\"custom-assignment-text\">\n",
    "\n",
    "# Part 1: Spectral Methods Intuition\n",
    "\n",
    "## Goal\n",
    "\n",
    "In this exercise you will build some intuition for the eigenvectors of various simple graphs.\n",
    "\n",
    "</div>"
   ]
  },
  {
   "cell_type": "code",
   "execution_count": 4,
   "id": "fa47c8d8-bc6e-48a9-8c22-f59b13e248ba",
   "metadata": {},
   "outputs": [],
   "source": [
    "import numpy"
   ]
  },
  {
   "cell_type": "markdown",
   "id": "547d4535-79b6-4d33-a3a0-2a7dd35d50ef",
   "metadata": {},
   "source": [
    "<div class=\"custom-assignment-text\">\n",
    "    \n",
    "## Description\n",
    "\n",
    "(a) (6 points) Consider the graphs as given in Figure 1. For this part, take $n = 6$. For each graph write down the Laplacian matrix $L = D −A$ where $D$ is the diagonal matrix with entry $D_{i,j}$ being the degree of the $i$th node, and $A$ is the adjacency matrix, with entry $A_{i,j} = 1$ if there is an edge between nodes $i$ and $j$, and $A_{i,j} = 0$ otherwise. Your answer should be in the form of actual matrices (i.e., not just English descriptions of matrices).\n",
    "    \n",
    "<figure><center><img src=\"../../materials/Week 6/Figure_1.png\" width=100%><figcaption>Figure 1: The graphs for question 1a.</figcaption></center></figure>\n",
    "\n",
    "</div>"
   ]
  },
  {
   "cell_type": "code",
   "execution_count": 8,
   "id": "76961337-aa6a-42f2-b853-3c94b608eac1",
   "metadata": {},
   "outputs": [],
   "source": [
    "class LaplacianGraph():\n",
    "    def __init__(self, n):\n",
    "        self.n = n\n",
    "        self.matrix = numpy.zeros((n, n))\n",
    "    def add_edge(self, i, j, weight=1):\n",
    "        self.matrix[i,i] += weight\n",
    "        self.matrix[j,j] += weight\n",
    "        self.matrix[i,j] -= weight\n",
    "        self.matrix[j,i] -= weight"
   ]
  },
  {
   "cell_type": "code",
   "execution_count": 32,
   "id": "02c58104-8abe-45f1-9f37-0fa306d1b3a3",
   "metadata": {},
   "outputs": [
    {
     "data": {
      "text/html": [
       "<div class=\"alert alert-block alert-success\">OK</div>"
      ],
      "text/plain": [
       "<IPython.core.display.HTML object>"
      ]
     },
     "metadata": {},
     "output_type": "display_data"
    }
   ],
   "source": [
    "def line_graph(n=6):\n",
    "    graph = LaplacianGraph(n)\n",
    "    for i in range(n-1):\n",
    "        graph.add_edge(i, i+1)\n",
    "    return graph\n",
    "\n",
    "def line_with_point_graph(n=6):\n",
    "    graph = line_graph(n)\n",
    "    for i in range(n-2):\n",
    "        graph.add_edge(i, n-1)\n",
    "    return graph\n",
    "\n",
    "def circle_graph(n=6):\n",
    "    graph = line_graph(n)\n",
    "    # close the circle\n",
    "    graph.add_edge(0, n-1)\n",
    "    return graph\n",
    "\n",
    "def circle_with_point_graph(n=6):\n",
    "    graph = line_graph(n)\n",
    "    # close the circle\n",
    "    graph.add_edge(0, n-2)\n",
    "    # connect points to center (n-2 is already connected to n-1)\n",
    "    for i in range(0, n-2):\n",
    "        graph.add_edge(i, n-1)\n",
    "    return graph\n",
    "    \n",
    "\n",
    "def test_graphs(graph_constructors):\n",
    "    for name, f in graph_constructors.items():\n",
    "        n = 100\n",
    "        matrix = f(n).matrix\n",
    "        assert matrix.shape == (n,n), f'{name}: {matrix.shape}'\n",
    "        # graph should be symmetric\n",
    "        assert numpy.allclose(matrix, matrix.T)\n",
    "        # diagonal should be non-negative, others non-positive\n",
    "        for i in range(n):\n",
    "            for j in range(n):\n",
    "                if i == j:\n",
    "                    assert matrix[i,j] >= 0, f'{name}: {matrix[i,j]}'\n",
    "                else:\n",
    "                    assert matrix[i,j] <= 0, f'{name}: {matrix[i,j]}'\n",
    "        \n",
    "        \n",
    "test_graphs({\"Line graph\": line_graph, \"line with point\": line_with_point_graph, \"circle\": circle_graph, \"circle with point\": circle_with_point_graph})\n",
    "ok()"
   ]
  },
  {
   "cell_type": "code",
   "execution_count": 33,
   "id": "a36aa722-71f4-41bf-b61e-f9f16fb726b3",
   "metadata": {},
   "outputs": [
    {
     "data": {
      "text/markdown": [
       "* (a) Line graph"
      ],
      "text/plain": [
       "<IPython.core.display.Markdown object>"
      ]
     },
     "metadata": {},
     "output_type": "display_data"
    },
    {
     "name": "stdout",
     "output_type": "stream",
     "text": [
      "[[ 1. -1.  0.  0.  0.  0.]\n",
      " [-1.  2. -1.  0.  0.  0.]\n",
      " [ 0. -1.  2. -1.  0.  0.]\n",
      " [ 0.  0. -1.  2. -1.  0.]\n",
      " [ 0.  0.  0. -1.  2. -1.]\n",
      " [ 0.  0.  0.  0. -1.  1.]]\n"
     ]
    },
    {
     "data": {
      "text/markdown": [
       "* (b) Line graph with added point"
      ],
      "text/plain": [
       "<IPython.core.display.Markdown object>"
      ]
     },
     "metadata": {},
     "output_type": "display_data"
    },
    {
     "name": "stdout",
     "output_type": "stream",
     "text": [
      "[[ 2. -1.  0.  0.  0. -1.]\n",
      " [-1.  3. -1.  0.  0. -1.]\n",
      " [ 0. -1.  3. -1.  0. -1.]\n",
      " [ 0.  0. -1.  3. -1. -1.]\n",
      " [ 0.  0.  0. -1.  2. -1.]\n",
      " [-1. -1. -1. -1. -1.  5.]]\n"
     ]
    },
    {
     "data": {
      "text/markdown": [
       "* (c) Circle graph"
      ],
      "text/plain": [
       "<IPython.core.display.Markdown object>"
      ]
     },
     "metadata": {},
     "output_type": "display_data"
    },
    {
     "name": "stdout",
     "output_type": "stream",
     "text": [
      "[[ 2. -1.  0.  0.  0. -1.]\n",
      " [-1.  2. -1.  0.  0.  0.]\n",
      " [ 0. -1.  2. -1.  0.  0.]\n",
      " [ 0.  0. -1.  2. -1.  0.]\n",
      " [ 0.  0.  0. -1.  2. -1.]\n",
      " [-1.  0.  0.  0. -1.  2.]]\n"
     ]
    },
    {
     "data": {
      "text/markdown": [
       "* (d) Circle graph with added point"
      ],
      "text/plain": [
       "<IPython.core.display.Markdown object>"
      ]
     },
     "metadata": {},
     "output_type": "display_data"
    },
    {
     "name": "stdout",
     "output_type": "stream",
     "text": [
      "[[ 3. -1.  0.  0. -1. -1.]\n",
      " [-1.  3. -1.  0.  0. -1.]\n",
      " [ 0. -1.  3. -1.  0. -1.]\n",
      " [ 0.  0. -1.  3. -1. -1.]\n",
      " [-1.  0.  0. -1.  3. -1.]\n",
      " [-1. -1. -1. -1. -1.  5.]]\n"
     ]
    }
   ],
   "source": [
    "markdown(\"* (a) Line graph\")\n",
    "print(line_graph().matrix)\n",
    "markdown(\"* (b) Line graph with added point\")\n",
    "print(line_with_point_graph().matrix)\n",
    "markdown(\"* (c) Circle graph\")\n",
    "print(circle_graph().matrix)\n",
    "markdown(\"* (d) Circle graph with added point\")\n",
    "print(circle_with_point_graph().matrix)"
   ]
  },
  {
   "cell_type": "markdown",
   "id": "67c43d81-5734-4061-a249-0bd318cb90ca",
   "metadata": {},
   "source": []
  }
 ],
 "metadata": {
  "kernelspec": {
   "display_name": "Python 3 (ipykernel)",
   "language": "python",
   "name": "python3"
  },
  "language_info": {
   "codemirror_mode": {
    "name": "ipython",
    "version": 3
   },
   "file_extension": ".py",
   "mimetype": "text/x-python",
   "name": "python",
   "nbconvert_exporter": "python",
   "pygments_lexer": "ipython3",
   "version": "3.9.2"
  }
 },
 "nbformat": 4,
 "nbformat_minor": 5
}
