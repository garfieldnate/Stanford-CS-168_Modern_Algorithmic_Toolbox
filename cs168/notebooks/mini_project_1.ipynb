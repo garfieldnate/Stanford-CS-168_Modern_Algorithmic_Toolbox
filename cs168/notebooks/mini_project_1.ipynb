{
 "cells": [
  {
   "cell_type": "code",
   "execution_count": 1,
   "id": "3dab3371-89f5-4c6d-9ae0-9123c607812f",
   "metadata": {},
   "outputs": [
    {
     "data": {
      "text/markdown": [
       "Surround markdown cells with  `<div class=\"alert alert-block alert-info\">\\n\\n ... \\n\\n</div>` to mark professor-provided assignment content"
      ],
      "text/plain": [
       "<IPython.core.display.Markdown object>"
      ]
     },
     "metadata": {},
     "output_type": "display_data"
    }
   ],
   "source": [
    "###########\n",
    "# PRELUDE #\n",
    "###########\n",
    "\n",
    "# auto-reload changed python files\n",
    "%load_ext autoreload\n",
    "%autoreload 2\n",
    "\n",
    "# Format cells with %%black\n",
    "%load_ext blackcellmagic\n",
    "\n",
    "# nice interactive plots\n",
    "%matplotlib inline\n",
    "\n",
    "# add repository directory to include path\n",
    "from pathlib import Path\n",
    "import sys\n",
    "PROJECT_DIR = Path('../..').resolve()\n",
    "sys.path.append(str(PROJECT_DIR))\n",
    "\n",
    "from IPython.display import display, Markdown\n",
    "def markdown(s):\n",
    "    return display(Markdown(s))\n",
    "\n",
    "markdown(\"Surround markdown cells with  `<div class=\\\"alert alert-block alert-info\\\">\\\\n\\\\n ... \\\\n\\\\n</div>` to mark professor-provided assignment content\")"
   ]
  },
  {
   "cell_type": "markdown",
   "id": "5bf2664e",
   "metadata": {},
   "source": [
    "<div class=\"alert alert-block alert-info\">\n",
    "\n",
    "# Part 1: The Power of Two Choices\n",
    "\n",
    "</div>"
   ]
  },
  {
   "cell_type": "code",
   "execution_count": 2,
   "id": "5725ce6b",
   "metadata": {},
   "outputs": [],
   "source": [
    "from collections import Counter\n",
    "import matplotlib.pyplot as plt\n",
    "from random import randrange, choice as randchoice\n",
    "from tqdm import trange"
   ]
  },
  {
   "cell_type": "markdown",
   "id": "464144ac",
   "metadata": {},
   "source": [
    "<div class=\"alert alert-block alert-info\">\n",
    "\n",
    "## Goal\n",
    "\n",
    "The goal of this part of the assignment is to gain an appreciation for the unreasonable effectiveness of simple randomized load balancing, and measure the benefits of some lightweight optimizations.\n",
    "\n",
    "</div>"
   ]
  },
  {
   "cell_type": "markdown",
   "id": "576414d8",
   "metadata": {},
   "source": [
    "<div class=\"alert alert-block alert-info\">\n",
    "\n",
    "## Description\n",
    "We consider random processes of the following type: there are N bins, and we throw N\n",
    "balls into them, one by one. \\[This is an abstraction of the sort of allocation problem that arises throughout computing—e.g. allocating tasks on servers, routing packets within parallel networks, etc..] We’ll compare four different strategies for choosing the bin in which to place a given ball.\n",
    "\n",
    "</div>"
   ]
  },
  {
   "cell_type": "markdown",
   "id": "f790cff7",
   "metadata": {},
   "source": [
    "<div class=\"alert alert-block alert-info\">\n",
    "\n",
    "1. Select one of the N bins uniformly at random, and place the current ball in it.\n",
    "\n",
    "</div>"
   ]
  },
  {
   "cell_type": "code",
   "execution_count": 3,
   "id": "e41935ee",
   "metadata": {},
   "outputs": [],
   "source": [
    "def choose_bin_1(N, bins):\n",
    "    return randrange(N)"
   ]
  },
  {
   "cell_type": "markdown",
   "id": "3c3947a6",
   "metadata": {},
   "source": [
    "<div class=\"alert alert-block alert-info\">\n",
    "\n",
    "2. Select two of the N bins uniformly at random (either with or without replacement), and look at how many balls are already in each. If one bin has strictly fewer balls than the other, place the current ball in that bin. If both bins have the same number of balls, pick one of the two at random and place the current ball in it.\n",
    "\n",
    "</div>"
   ]
  },
  {
   "cell_type": "code",
   "execution_count": 4,
   "id": "7acb45b1",
   "metadata": {},
   "outputs": [],
   "source": [
    "def choose_bin_2(N, bins):\n",
    "    bin_1 = choose_bin_1(N, bins)\n",
    "    bin_2 = choose_bin_1(N, bins)\n",
    "    \n",
    "    bin_1_size = bins[bin_1]\n",
    "    bin_2_size = bins[bin_2]\n",
    "    if bin_1_size == bin_2_size:\n",
    "        return randchoice([bin_1, bin_2])\n",
    "\n",
    "    elif bin_1_size < bin_2_size:\n",
    "        return bin_1\n",
    "    else:\n",
    "        return bin_2"
   ]
  },
  {
   "cell_type": "markdown",
   "id": "edf9ebb1",
   "metadata": {},
   "source": [
    "<div class=\"alert alert-block alert-info\">\n",
    "\n",
    "3. Same as the previous strategy, except choosing three bins at random rather than two.\n",
    "\n",
    "</div>"
   ]
  },
  {
   "cell_type": "code",
   "execution_count": 5,
   "id": "6519976d",
   "metadata": {},
   "outputs": [],
   "source": [
    "def choose_bin_3(N, bins):\n",
    "    bin_1 = choose_bin_1(N, bins)\n",
    "    bin_2 = choose_bin_1(N, bins)\n",
    "    bin_3 = choose_bin_1(N, bins)\n",
    "\n",
    "    bin_1_size = bins[bin_1]\n",
    "    bin_2_size = bins[bin_2]\n",
    "    bin_3_size = bins[bin_3]\n",
    "\n",
    "    if bin_1_size == bin_2_size == bin_3_size:\n",
    "        # TODO: is this really necessary? Can't we just pick bin_1?\n",
    "        return randchoice([bin_1, bin_2, bin_3])\n",
    "\n",
    "    min_size = bin_1_size\n",
    "    min_bin = bin_1\n",
    "    \n",
    "    if bin_2_size < min_size:\n",
    "        min_size = bin_2_size\n",
    "        min_bin = bin_2\n",
    "    \n",
    "    if bin_3_size < min_size:\n",
    "        min_bin = bin_3\n",
    "    \n",
    "    return min_bin"
   ]
  },
  {
   "cell_type": "markdown",
   "id": "38594c36",
   "metadata": {},
   "source": [
    "<div class=\"alert alert-block alert-info\">\n",
    "\n",
    "4. Select two bins as follows: the first bin is selected uniformly from the first N/2 bins, and the second uniformly from the last N/2 bins. (You can assume that N is even.) If one bin has strictly fewer balls than the other, place the current ball in that bin. If both bins have the same number of balls, place the current ball (deterministically) in the first of the two bins.\n",
    "\n",
    "</div>"
   ]
  },
  {
   "cell_type": "code",
   "execution_count": 6,
   "id": "d6ca5513",
   "metadata": {},
   "outputs": [],
   "source": [
    "def choose_bin_4(N, bins):\n",
    "    halfN = N // 2\n",
    "    bin_1 = choose_bin_1(halfN, bins)\n",
    "    bin_2 = choose_bin_1(halfN, bins) + halfN\n",
    "    \n",
    "    bin_1_size = bins[bin_1]\n",
    "    bin_2_size = bins[bin_2]\n",
    "    if bin_1_size < bin_2_size:\n",
    "        return bin_1\n",
    "    elif bin_2_size < bin_1_size:\n",
    "        return bin_2\n",
    "    else:\n",
    "        return bin_1\n",
    "        # return randchoice([bin_1, bin_2])"
   ]
  },
  {
   "cell_type": "markdown",
   "id": "8b5e5d55",
   "metadata": {},
   "source": [
    "<div class=\"alert alert-block alert-info\">\n",
    "\n",
    "(a) (5 points) Write code to simulate strategies 1–4. For each strategy, there should be a function that takes the number N of balls and bins as input, simulates a run of the corresponding random process, and outputs the number of balls in the most populated bin (denoted by X below). Before running your code, try to guess how the above schemes will compare to eachother.\n",
    "\n",
    "</div>"
   ]
  },
  {
   "cell_type": "code",
   "execution_count": 7,
   "id": "ede3476d",
   "metadata": {},
   "outputs": [
    {
     "data": {
      "text/plain": [
       "'OK'"
      ]
     },
     "execution_count": 7,
     "metadata": {},
     "output_type": "execute_result"
    }
   ],
   "source": [
    "def ball_toss(N, bin_chooser):\n",
    "    \"\"\"Place N balls into N bins, choosing the bin using the bin_chooser function.\n",
    "    Return the maximum number of balls in any bin.\"\"\"\n",
    "    bins = [0] * N\n",
    "    max_size = 0\n",
    "    \n",
    "    for _ in range(N):\n",
    "        landed_bin = bin_chooser(N, bins)\n",
    "        bins[landed_bin] += 1\n",
    "        \n",
    "        if bins[landed_bin] > max_size:\n",
    "            max_size = bins[landed_bin]\n",
    "    return max_size\n",
    "\n",
    "# test each bin chooser function\n",
    "ball_toss(10, choose_bin_1)\n",
    "ball_toss(10, choose_bin_2)\n",
    "ball_toss(10, choose_bin_3)\n",
    "ball_toss(10, choose_bin_4)\n",
    "\"OK\""
   ]
  },
  {
   "cell_type": "markdown",
   "id": "675ae172",
   "metadata": {},
   "source": [
    "### Hypothesis\n",
    "\n",
    "I think 1 should do the worst job of load balancing; the nature of randomness is such that some bins will happen to be hit many times. 2 should be better, 3 even better than that. I think 4 should be equivalent to 2, since, unless our random function is not very good, there should not be any structure in the array of bins, and thus it should not help to choose them specifically from the first and second half of the array."
   ]
  },
  {
   "cell_type": "markdown",
   "id": "5f1d7586",
   "metadata": {},
   "source": [
    "<div class=\"alert alert-block alert-info\">\n",
    "\n",
    "(b) (10 points) Let N = 200, 000 and simulate each of the four strategies 30 times. For each strategy, plot the histogram of the 30 values of X. Discuss the pros and cons of the different strategies. Does one of them stand out as a “sweet spot”? \\[As with many of the mini-projects, there is no single “right answer” to this question. Instead, the idea is to have you think about the processes and your experiments, and draw reasonable conclusions from this analysis.]\n",
    "\n",
    "</div>"
   ]
  },
  {
   "cell_type": "code",
   "execution_count": 8,
   "id": "a5bfa502",
   "metadata": {},
   "outputs": [],
   "source": [
    "def simulate(bin_chooser):\n",
    "    max_values = []\n",
    "    N = 200_000\n",
    "    for _ in trange(100):\n",
    "        max_values.append(ball_toss(N, bin_chooser))\n",
    "    return max_values"
   ]
  },
  {
   "cell_type": "code",
   "execution_count": 9,
   "id": "441a081f",
   "metadata": {},
   "outputs": [
    {
     "name": "stderr",
     "output_type": "stream",
     "text": [
      "100%|██████████| 100/100 [00:21<00:00,  4.59it/s]\n"
     ]
    }
   ],
   "source": [
    "max_values_1 = simulate(choose_bin_1)"
   ]
  },
  {
   "cell_type": "code",
   "execution_count": 10,
   "id": "4f029a9a",
   "metadata": {},
   "outputs": [
    {
     "name": "stderr",
     "output_type": "stream",
     "text": [
      "100%|██████████| 100/100 [00:52<00:00,  1.91it/s]\n"
     ]
    }
   ],
   "source": [
    "max_values_2 = simulate(choose_bin_2)"
   ]
  },
  {
   "cell_type": "code",
   "execution_count": 11,
   "id": "2994a4f6",
   "metadata": {},
   "outputs": [
    {
     "name": "stderr",
     "output_type": "stream",
     "text": [
      "100%|██████████| 100/100 [01:08<00:00,  1.45it/s]\n"
     ]
    }
   ],
   "source": [
    "max_values_3 = simulate(choose_bin_3)"
   ]
  },
  {
   "cell_type": "code",
   "execution_count": 12,
   "id": "8fd303d6",
   "metadata": {},
   "outputs": [
    {
     "name": "stderr",
     "output_type": "stream",
     "text": [
      "100%|██████████| 100/100 [00:46<00:00,  2.15it/s]\n"
     ]
    }
   ],
   "source": [
    "max_values_4 = simulate(choose_bin_4)"
   ]
  },
  {
   "cell_type": "code",
   "execution_count": 13,
   "id": "ee2aea11",
   "metadata": {},
   "outputs": [
    {
     "data": {
      "text/markdown": [
       "### Number of occurrences of maximum bin values"
      ],
      "text/plain": [
       "<IPython.core.display.Markdown object>"
      ]
     },
     "metadata": {},
     "output_type": "display_data"
    },
    {
     "data": {
      "text/markdown": [
       "#### Method 1"
      ],
      "text/plain": [
       "<IPython.core.display.Markdown object>"
      ]
     },
     "metadata": {},
     "output_type": "display_data"
    },
    {
     "name": "stdout",
     "output_type": "stream",
     "text": [
      "7: 10, 8: 71, 9: 19\n"
     ]
    },
    {
     "data": {
      "text/markdown": [
       "#### Method 2"
      ],
      "text/plain": [
       "<IPython.core.display.Markdown object>"
      ]
     },
     "metadata": {},
     "output_type": "display_data"
    },
    {
     "name": "stdout",
     "output_type": "stream",
     "text": [
      "3: 25, 4: 75\n"
     ]
    },
    {
     "data": {
      "text/markdown": [
       "#### Method 3"
      ],
      "text/plain": [
       "<IPython.core.display.Markdown object>"
      ]
     },
     "metadata": {},
     "output_type": "display_data"
    },
    {
     "name": "stdout",
     "output_type": "stream",
     "text": [
      "3: 100\n"
     ]
    },
    {
     "data": {
      "text/markdown": [
       "#### Method 4"
      ],
      "text/plain": [
       "<IPython.core.display.Markdown object>"
      ]
     },
     "metadata": {},
     "output_type": "display_data"
    },
    {
     "name": "stdout",
     "output_type": "stream",
     "text": [
      "3: 99, 4: 1\n"
     ]
    },
    {
     "data": {
      "image/png": "[encoded data removed]",
      "text/plain": [
       "<Figure size 600x500 with 4 Axes>"
      ]
     },
     "metadata": {},
     "output_type": "display_data"
    }
   ],
   "source": [
    "data = [\n",
    "    (\"Method 1\", max_values_1),\n",
    "    (\"Method 2\", max_values_2), \n",
    "    (\"Method 3\", max_values_3), \n",
    "    (\"Method 4\", max_values_4)]\n",
    "\n",
    "# output raw data, since it's hard to see in the histogram plots\n",
    "markdown(\"### Number of occurrences of maximum bin values\")\n",
    "for d in data:\n",
    "    markdown(f'#### {d[0]}')\n",
    "    sorted_occurences = sorted(Counter(d[1]).items())\n",
    "    print(', '.join(f'{key}: {val}' for key, val in sorted_occurences))\n",
    "    # print(sorted(Counter(d[1]).items()))\n",
    "\n",
    "# fig, axes = plt.subplots(1, 4, sharex=True, sharey=True, figsize=(10,3))\n",
    "fig, axes = plt.subplots(2, 2, sharex=True, sharey=True, figsize=(6,5))\n",
    "for ax, d in zip(axes.flatten(), data):\n",
    "    ax.hist(d[1], bins=range(2,12), rwidth=.5, align='left')\n",
    "    ax.set_title(d[0])\n",
    "fig.subplots_adjust(hspace=2.0, wspace=1.0)\n",
    "fig.suptitle(\"Simulated Performance of Bin-Choosing Functions\")\n",
    "fig.supxlabel(\"Maximum Bin Value\", size=14)\n",
    "fig.supylabel(\"Simulated Frequency\")\n",
    "fig.tight_layout()"
   ]
  },
  {
   "cell_type": "markdown",
   "id": "c8c59e45",
   "metadata": {},
   "source": [
    "### Analysis\n",
    "\n",
    "Looks like we can rank the performance as follows: 3 > 4 > 2 > 1; 4 perform only slightly worse than 3. I did not expect 4 to perform better than 2, but in retrospect it makes sense: random numbers tend to cluster, and could even be the same twice in a row! Method 4 guarantees that the 2 choices of bin are not the same, and probably also aleves the clustering issue more generally. The run time of 4 was better than 2 and 3, too, since the implementation was also simpler, so it does stand out as a possible sweet spot, assuming that over time the runtime improvement over method 1 outweighs the loss caused by a more complex algorithm.\n",
    "\n",
    "I do have an open question regarding the resolution of ties. Methods 2 and 3 resolve ties via random choice; I tried deterministically choosing the first bin in method 2, but there was no change in final outcome (suggesting this is probably fine to do for time optimization). However, I also tried changing method 4 to use a random choice instead of always picking the first bin, and the final outcomes worsened, matching method 2 almost perfectly. Why would this be?"
   ]
  },
  {
   "cell_type": "markdown",
   "id": "7782f3e8",
   "metadata": {},
   "source": [
    "<div class=\"alert alert-block alert-info\">\n",
    "\n",
    "(c) (5 points) Propose an analogy between the first of the random processes above and the standard implementation of hashing N elements into a hash table with N buckets, and resolving collisions via chaining (i.e., one linked list per bucket). Discuss in particular any relationships between X and search times in the hash table.\n",
    "\n",
    "</div>"
   ]
  },
  {
   "cell_type": "markdown",
   "id": "7cddb2ce",
   "metadata": {},
   "source": [
    "The hypothetical hash table performance can be compared to strategy 1 above: a pseudo-random hash function picks the bucket to put a value in, just as the function placed balls in random bins. The maximum number of balls in a bin is analogous to the number of values placed in a single bucket (in Java these are all placed in `TreeMap` when possible, otherwise a `LinkedList`). The maximum numbers in the ball-tossing simulation indicate the maximum number of iterate-and-compare steps required to find a value in the hash table."
   ]
  },
  {
   "cell_type": "markdown",
   "id": "38019986",
   "metadata": {},
   "source": [
    "<div class=\"alert alert-block alert-info\">\n",
    "\n",
    "(d) (5 points) Do the other random processes suggest alternative implementations of hash tables with chaining? Discuss the trade-offs between the different hash table implementations that you propose (e.g., in terms of insertion time vs. search time).\n",
    "\n",
    "</div>"
   ]
  },
  {
   "cell_type": "markdown",
   "id": "3b9e421a",
   "metadata": {},
   "source": [
    "One could use multiple hash functions to place a value into one of multiple buckets, choosing the bucket with the fewest entries. Then the query method would search through all of the relevant buckets. The total number of iterations should still be the same on average, but the worst case performance should occur less often because we will do a better job of distributing the values. It's possible that the CPU cache behavior would be a worse, since we would access more disparate memory locations more often. Not sure about that, though."
   ]
  },
  {
   "cell_type": "markdown",
   "id": "7fba86d3",
   "metadata": {},
   "source": [
    "<div class=\"alert alert-block alert-info\">\n",
    "\n",
    "# Part 2: Conservative Updates in a Count-Min Sketch\n",
    "\n",
    "</div>"
   ]
  },
  {
   "cell_type": "code",
   "execution_count": 14,
   "id": "b4eb1b63",
   "metadata": {},
   "outputs": [],
   "source": [
    "from hashlib import md5\n",
    "from random import shuffle\n",
    "from statistics import mean\n"
   ]
  },
  {
   "cell_type": "markdown",
   "id": "830513ab",
   "metadata": {},
   "source": [
    "<div class=\"alert alert-block alert-info\">\n",
    "\n",
    "## Goal\n",
    "The goal of this part is to understand the count-min sketch (from Lecture #2) via an implementation, and to explore the benefits of a “conservative updates” optimization.\n",
    "\n",
    "</div>"
   ]
  },
  {
   "cell_type": "markdown",
   "id": "465e440f",
   "metadata": {},
   "source": [
    "<div class=\"alert alert-block alert-info\">\n",
    "\n",
    "## Description\n",
    "\n",
    "You’ll use a count-min sketch with 4 independent hash tables, each with 256 counters. You\n",
    "will run 10 independent trials. This lets you measure not only the accuracy of the sketch, but the distribution of the accuracy over multiple datasets with the same frequency distribution. Your sketch should take a “trial” as input, and the hash value of an element x during trial i (i = 1, 2, . . . , 10) for table j (j = 1, 2, 3, 4) is calculated as follows:\n",
    "\n",
    "* Consider the input x as a string, and append i − 1 as a string to the end of the string.\n",
    "* Calculate the MD5 score of the resulting string. Do not implement the MD5 algorithm yourself; most modern programming languages have packages that calculate MD5 scores for you. For example, in Python 3, you can use the hashlib library and `hashlib.md5(foo.encode('utf-8')).hexdigest()` to compute the MD5 score of the string foo (returning a hexadecimal string).\n",
    "* The hash value is the j-th byte of the score.\n",
    "\n",
    "As an example, to compute the hash value of 100 in the 4th table of the 9th trial, we calculate the MD5 score of the string \"1008\", which is (in hexadecimal):\n",
    "\n",
    "    15 87 96 5f b4 d4 b5 af e8 42 8a 4a 02 4f eb 0d\n",
    "\n",
    "The 4th byte is 5f in hexadecimal, which is 95 in decimal. In Python, you can parse the hexadecimal string 5f with `int(\"5f\", 16)`.\n",
    "\n",
    "(a) (5 points) Implement the count-min sketch, as above.\n",
    "\n",
    "</div>"
   ]
  },
  {
   "cell_type": "code",
   "execution_count": 15,
   "id": "470d8354",
   "metadata": {},
   "outputs": [
    {
     "data": {
      "text/plain": [
       "'OK'"
      ]
     },
     "execution_count": 15,
     "metadata": {},
     "output_type": "execute_result"
    }
   ],
   "source": [
    "# returns an array of hash values to use for assignng buckets in the count-min hash sketch\n",
    "def count_min_hashes(x, trial):\n",
    "    return md5(f\"{x}{trial - 1}\".encode())\n",
    "\n",
    "assert count_min_hashes(100, 9).hexdigest() == \"1587965fb4d4b5afe8428a4a024feb0d\"\n",
    "\"OK\""
   ]
  },
  {
   "cell_type": "code",
   "execution_count": 16,
   "id": "c59c255a",
   "metadata": {},
   "outputs": [],
   "source": [
    "# Note: assignment says to use digest indices j=1..4, but it was easier to work with 0..3\n",
    "class CountMinSketch:\n",
    "    def __init__(self, trial: int, conservative: bool=False):\n",
    "        \"\"\"Create a new count min sketch. \n",
    "        - trial: used to seed the hash function for experiments in this notebook\n",
    "        - conservative: use conservative update optimization\"\"\"\n",
    "        self.table = [[0] * 256 for i in range(4)]\n",
    "        self.trial = trial\n",
    "        self.conservative = conservative\n",
    "        self.total = 0\n",
    "    \n",
    "    def increment(self, x):\n",
    "        self.total += 1\n",
    "        \n",
    "        digest = count_min_hashes(x, self.trial).digest()\n",
    "        if self.conservative:\n",
    "            min_val = min(\n",
    "                self.table[0][digest[0]],\n",
    "                self.table[1][digest[1]],\n",
    "                self.table[2][digest[2]],\n",
    "                self.table[3][digest[3]]\n",
    "                )\n",
    "            for index, table in enumerate(self.table):\n",
    "                if table[digest[index]] == min_val:\n",
    "                    table[digest[index]] += 1\n",
    "        else:\n",
    "            self.table[0][digest[0]] += 1\n",
    "            self.table[1][digest[1]] += 1\n",
    "            self.table[2][digest[2]] += 1\n",
    "            self.table[3][digest[3]] += 1\n",
    "\n",
    "    def count(self, x):\n",
    "        digest = count_min_hashes(x, self.trial).digest()\n",
    "        return min([\n",
    "            self.table[0][digest[0]], \n",
    "            self.table[1][digest[1]], \n",
    "            self.table[2][digest[2]], \n",
    "            self.table[3][digest[3]]])"
   ]
  },
  {
   "cell_type": "code",
   "execution_count": 17,
   "id": "9a7e02a2",
   "metadata": {},
   "outputs": [],
   "source": [
    "def run_trials(stream, conservative=False):\n",
    "    sketches = []\n",
    "    for trial in range(1, 11):\n",
    "        sketch = CountMinSketch(trial, conservative)\n",
    "        for el in stream:\n",
    "            sketch.increment(el)\n",
    "        sketches.append(sketch)\n",
    "    return sketches"
   ]
  },
  {
   "cell_type": "markdown",
   "id": "d23d26c9",
   "metadata": {},
   "source": [
    "<div class=\"alert alert-block alert-info\">\n",
    "\n",
    "You will be feeding data streams (i.e., sequences of elements) into count-min sketches. Every element of each stream is an integer between 1 and 9050 (inclusive). The frequencies are given by:\n",
    "* Integers $1000 \\times (i − 1) + 1$ to $1000 \\times i$, for $1 ≤ i ≤ 9$, appear i times in the stream. That is, the integers 1 to 1000 appear once in the stream; 1001 to 2000 appear twice; and so on.\n",
    "* An integer $9000 + i$, for $1 ≤ i ≤ 50$, appears $i^2$ times in the stream. For example, the integer 9050 appears 2500 times.\n",
    "\n",
    "(Each time an integer appears in the stream, it has a count of 1 associated with it.)"
   ]
  },
  {
   "cell_type": "code",
   "execution_count": 18,
   "id": "728b91db",
   "metadata": {
    "tags": []
   },
   "outputs": [],
   "source": [
    "def create_stream():\n",
    "    stream = []\n",
    "    for i in range(1, 10):\n",
    "        sub_stream = range(1000 * (i-1) + 1, 1000 * i + 1)\n",
    "        for j in range(i):\n",
    "            stream.extend(sub_stream)\n",
    "    for i in range(1, 51):\n",
    "        stream.extend([9000 + i] * (i**2))\n",
    "    return stream"
   ]
  },
  {
   "cell_type": "code",
   "execution_count": 19,
   "id": "206b8a2e",
   "metadata": {},
   "outputs": [
    {
     "data": {
      "image/png": "[encoded data removed]",
      "text/plain": [
       "<Figure size 640x480 with 1 Axes>"
      ]
     },
     "metadata": {},
     "output_type": "display_data"
    }
   ],
   "source": [
    "# Confirming distribution of values in created stream\n",
    "stream = create_stream()\n",
    "\n",
    "fig, ax1 = plt.subplots()\n",
    "ax1.hist(create_stream(), rwidth=.5)\n",
    "ax1.set_ylabel(\"Occurrences\")\n",
    "ax1.set_xlabel(\"Element Values\")\n",
    "None"
   ]
  },
  {
   "cell_type": "markdown",
   "id": "52aad2c7",
   "metadata": {},
   "source": [
    "<div class=\"alert alert-block alert-info\">\n",
    "\n",
    "(b) (2 points) Call an integer a heavy hitter if the number of times it appears is at least 1% of the total number of stream elements. How many heavy hitters are there in a stream with the above frequencies?\n",
    "\n",
    "</div>"
   ]
  },
  {
   "cell_type": "code",
   "execution_count": 20,
   "id": "8ab137a4",
   "metadata": {},
   "outputs": [
    {
     "name": "stdout",
     "output_type": "stream",
     "text": [
      "The heavy hitters are the values 9030 through 9050\n"
     ]
    }
   ],
   "source": [
    "def heavy_hitters(stream):\n",
    "    total = len(stream)\n",
    "    freqs = Counter(stream)\n",
    "    threshold = total / 100\n",
    "    heavies = []\n",
    "    for (k, v) in freqs.items():\n",
    "        if v >= threshold:\n",
    "            heavies.append(k)\n",
    "    return heavies\n",
    "\n",
    "hh = heavy_hitters(create_stream())\n",
    "print(f\"The heavy hitters are the values {hh[0]} through {hh[-1]}\")"
   ]
  },
  {
   "cell_type": "markdown",
   "id": "3af3024a",
   "metadata": {},
   "source": [
    "<div class=\"alert alert-block alert-info\">\n",
    "\n",
    "Next, you will consider 3 different data streams, each corresponding to the elements above in a different order.\n",
    "\n",
    "1. Forward: the elements appear in non-decreasing order.\n",
    "2. Reverse: the elements appear in non-increasing order.\n",
    "3. Random: the elements appear in a random order.\n",
    "\n",
    "</div>"
   ]
  },
  {
   "cell_type": "code",
   "execution_count": 21,
   "id": "5de5ac60",
   "metadata": {},
   "outputs": [
    {
     "name": "stdout",
     "output_type": "stream",
     "text": [
      "Confirm that this stream looks shuffled:\n",
      "[9025, 9037, 2521, 7505, 2396, 9030, 4836, 9049, 6376, 6988]\n"
     ]
    }
   ],
   "source": [
    "def forward_stream():\n",
    "    stream = create_stream()\n",
    "    return sorted(stream)\n",
    "\n",
    "def reverse_stream():\n",
    "    stream = create_stream()\n",
    "    return sorted(stream, reverse=True)\n",
    "\n",
    "def random_stream():\n",
    "    stream = create_stream()\n",
    "    shuffle(stream)\n",
    "    return stream\n",
    "\n",
    "assert forward_stream()[:10] == list(range(1, 11))\n",
    "assert reverse_stream()[:10] == [9050] * 10\n",
    "# too difficult to check this automatically\n",
    "print('Confirm that this stream looks shuffled:')\n",
    "print(random_stream()[:10])"
   ]
  },
  {
   "cell_type": "markdown",
   "id": "492fcbba",
   "metadata": {},
   "source": [
    "<div class=\"alert alert-block alert-info\">\n",
    "\n",
    "(c) (6 points) For each of the three data streams, feed it into a count-min sketch (i.e., successively insert its elements), and compute the values of the following quantities, averaged over the 10 trials, for each order of the stream:\n",
    "\n",
    "* The sketch’s estimate for the frequency of element 9050.\n",
    "* The sketch’s estimate for the number of heavy hitters (elements with estimated frequency at least 1% of the stream length).\n",
    "\n",
    "Record the mean estimate for each of the three orders. Does the order of the stream affect the estimated counts? Explain your answer.\n",
    "\n",
    "</div>"
   ]
  },
  {
   "cell_type": "code",
   "execution_count": 22,
   "id": "4a308bfb",
   "metadata": {},
   "outputs": [],
   "source": [
    "forward_stream_sketches = run_trials(forward_stream())\n",
    "reverse_stream_sketches = run_trials(reverse_stream())\n",
    "random_stream_sketches = run_trials(random_stream())"
   ]
  },
  {
   "cell_type": "markdown",
   "id": "9109a9e5",
   "metadata": {},
   "source": [
    "The order of the stream passed into a count-min sketch does not matter at all; count-min sketches only store frequencies, completely ignoring ordering of any kind. Therefore, the accumulated data will be exactly the same, and thus the estimated counts will also be exactly the same. Verification below:"
   ]
  },
  {
   "cell_type": "code",
   "execution_count": 23,
   "id": "b1d42473",
   "metadata": {},
   "outputs": [
    {
     "data": {
      "text/markdown": [
       "* Trial 1 sketches are identical"
      ],
      "text/plain": [
       "<IPython.core.display.Markdown object>"
      ]
     },
     "metadata": {},
     "output_type": "display_data"
    },
    {
     "data": {
      "text/markdown": [
       "* Trial 2 sketches are identical"
      ],
      "text/plain": [
       "<IPython.core.display.Markdown object>"
      ]
     },
     "metadata": {},
     "output_type": "display_data"
    },
    {
     "data": {
      "text/markdown": [
       "* Trial 3 sketches are identical"
      ],
      "text/plain": [
       "<IPython.core.display.Markdown object>"
      ]
     },
     "metadata": {},
     "output_type": "display_data"
    },
    {
     "data": {
      "text/markdown": [
       "* Trial 4 sketches are identical"
      ],
      "text/plain": [
       "<IPython.core.display.Markdown object>"
      ]
     },
     "metadata": {},
     "output_type": "display_data"
    },
    {
     "data": {
      "text/markdown": [
       "* Trial 5 sketches are identical"
      ],
      "text/plain": [
       "<IPython.core.display.Markdown object>"
      ]
     },
     "metadata": {},
     "output_type": "display_data"
    },
    {
     "data": {
      "text/markdown": [
       "* Trial 6 sketches are identical"
      ],
      "text/plain": [
       "<IPython.core.display.Markdown object>"
      ]
     },
     "metadata": {},
     "output_type": "display_data"
    },
    {
     "data": {
      "text/markdown": [
       "* Trial 7 sketches are identical"
      ],
      "text/plain": [
       "<IPython.core.display.Markdown object>"
      ]
     },
     "metadata": {},
     "output_type": "display_data"
    },
    {
     "data": {
      "text/markdown": [
       "* Trial 8 sketches are identical"
      ],
      "text/plain": [
       "<IPython.core.display.Markdown object>"
      ]
     },
     "metadata": {},
     "output_type": "display_data"
    },
    {
     "data": {
      "text/markdown": [
       "* Trial 9 sketches are identical"
      ],
      "text/plain": [
       "<IPython.core.display.Markdown object>"
      ]
     },
     "metadata": {},
     "output_type": "display_data"
    },
    {
     "data": {
      "text/markdown": [
       "* Trial 10 sketches are identical"
      ],
      "text/plain": [
       "<IPython.core.display.Markdown object>"
      ]
     },
     "metadata": {},
     "output_type": "display_data"
    },
    {
     "name": "stdout",
     "output_type": "stream",
     "text": [
      "Sketches for all trials are identical\n"
     ]
    }
   ],
   "source": [
    "for forward_sketch, reverse_sketch, random_sketch in zip(\n",
    "    forward_stream_sketches, reverse_stream_sketches, random_stream_sketches\n",
    "):\n",
    "    assert forward_sketch.table == reverse_sketch.table == random_sketch.table\n",
    "    markdown(f\"* Trial {forward_sketch.trial} sketches are identical\")\n",
    "print(\"Sketches for all trials are identical\")"
   ]
  },
  {
   "cell_type": "markdown",
   "id": "b731aff0",
   "metadata": {},
   "source": [
    "Therefore, we don't need to report separate numbers for each data stream."
   ]
  },
  {
   "cell_type": "code",
   "execution_count": 24,
   "id": "70bfee26",
   "metadata": {},
   "outputs": [],
   "source": [
    "def sketch_statistics(sketches):\n",
    "    threshold = forward_stream_sketches[0].total / 100\n",
    "    heavy_hitter_count = []\n",
    "    for sketch in sketches:\n",
    "        count = 0\n",
    "        for i in range(1,9051):\n",
    "            if sketch.count(i) >= threshold:\n",
    "                count += 1\n",
    "        heavy_hitter_count.append(count)\n",
    "    estimated_highest_count =  mean([sketch.count(9050) for sketch in sketches])\n",
    "    return heavy_hitter_count, mean(heavy_hitter_count), estimated_highest_count"
   ]
  },
  {
   "cell_type": "code",
   "execution_count": 25,
   "id": "2b4d68bb",
   "metadata": {},
   "outputs": [
    {
     "data": {
      "text/markdown": [
       "* The average estimated count of element 9050 is 2645.7"
      ],
      "text/plain": [
       "<IPython.core.display.Markdown object>"
      ]
     },
     "metadata": {},
     "output_type": "display_data"
    },
    {
     "data": {
      "text/markdown": [
       "* The estimated number of heavy hitters in each trial were [24, 24, 24, 25, 23, 24, 24, 23, 24, 23]"
      ],
      "text/plain": [
       "<IPython.core.display.Markdown object>"
      ]
     },
     "metadata": {},
     "output_type": "display_data"
    },
    {
     "data": {
      "text/markdown": [
       "* The average estimate was 23.8"
      ],
      "text/plain": [
       "<IPython.core.display.Markdown object>"
      ]
     },
     "metadata": {},
     "output_type": "display_data"
    }
   ],
   "source": [
    "heavy_hitter_count, avg_heavy_hitters, estimated_highest_count = sketch_statistics(forward_stream_sketches)\n",
    "markdown(f'* The average estimated count of element 9050 is {estimated_highest_count}')\n",
    "markdown(f'* The estimated number of heavy hitters in each trial were {heavy_hitter_count}')\n",
    "markdown(f'* The average estimate was {avg_heavy_hitters}')"
   ]
  },
  {
   "cell_type": "markdown",
   "id": "0ecd495d",
   "metadata": {},
   "source": [
    "<div class=\"alert alert-block alert-info\">\n",
    "\n",
    "\n",
    "(d) (3 points) Implement the conservative updates optimization, as follows. When updating the counters during an insert, instead of incrementing all 4 counters, we only increment the subset of these 4 counters that have the lowest current count (if two or more of them are tied for the minimum current count, then we increment each of these).\n",
    "\n",
    "</div>"
   ]
  },
  {
   "cell_type": "markdown",
   "id": "05b23089",
   "metadata": {},
   "source": [
    "#### Implementation Notes\n",
    "\n",
    "The `CountMinSketch` class above was refactored to take a `conservative` flag in the constructor which turns on this optimization. The implementation was straightforward, but one structural difference I needed to account for was that it was no longer possible to get the total number of elements aded to the sketch using `sum(sketch.table[0])` as before; since not all of the tables are updated on each `increment` call, the tables can no longer answer the question \"how many items have we seen\"? This was easy to make up for with a separate `total` field."
   ]
  },
  {
   "cell_type": "markdown",
   "id": "cdec0aaf",
   "metadata": {},
   "source": [
    "<div class=\"alert alert-block alert-info\">\n",
    "\n",
    "(e) (3 points) Explain why, even with conservative updates, the count-min sketch never underestimates the count of a value.\n",
    "\n",
    "</div>"
   ]
  },
  {
   "cell_type": "markdown",
   "id": "6aaeb966",
   "metadata": {},
   "source": [
    "The minimum value of the four tables constitutes a count-min sketch's best guess of the frequency of an element. Even with the conservative optimization, we always update this minimum value for each element encountered, so it is still equal to or greater than the actual number of occurrences of an element. Note also that it's important that we update all tables when there's a tie for the minimum value, since skipping the update for any of them would cause the sketch to underestimate the frequency of an item."
   ]
  },
  {
   "cell_type": "markdown",
   "id": "ea8fa336",
   "metadata": {},
   "source": [
    "<div class=\"alert alert-block alert-info\">\n",
    "\n",
    "(f) (6 points) Repeat part (c) with conservative updates.\n",
    "\n",
    "</div>"
   ]
  },
  {
   "cell_type": "code",
   "execution_count": 26,
   "id": "6dcacd7b",
   "metadata": {},
   "outputs": [],
   "source": [
    "forward_stream_sketches_2 = run_trials(forward_stream(), True)\n",
    "reverse_stream_sketches_2 = run_trials(reverse_stream(), True)\n",
    "random_stream_sketches_2 = run_trials(random_stream(), True)"
   ]
  },
  {
   "cell_type": "markdown",
   "id": "fcddb770",
   "metadata": {},
   "source": [
    "As shown below, when using the conservative update optimization the order of inputs *does* change the final state of the count-min sketches:"
   ]
  },
  {
   "cell_type": "code",
   "execution_count": 27,
   "id": "4ecb72d6",
   "metadata": {},
   "outputs": [
    {
     "data": {
      "text/markdown": [
       "* Trail 1 sketches are not identical; breaking now"
      ],
      "text/plain": [
       "<IPython.core.display.Markdown object>"
      ]
     },
     "metadata": {},
     "output_type": "display_data"
    },
    {
     "name": "stdout",
     "output_type": "stream",
     "text": [
      "The sketches are not all identical (the expected outcome)\n"
     ]
    }
   ],
   "source": [
    "all_identical = True\n",
    "for forward_sketch, reverse_sketch, random_sketch in zip(\n",
    "    forward_stream_sketches_2, reverse_stream_sketches_2, random_stream_sketches_2\n",
    "):\n",
    "    all_identical = all_identical and (\n",
    "        forward_sketch.table == reverse_sketch.table == random_sketch.table\n",
    "    )\n",
    "    if all_identical:\n",
    "        markdown(f\"* Trial {forward_sketch.trial} sketches are identical\")\n",
    "    else:\n",
    "        markdown(f\"* Trail {forward_sketch.trial} sketches are not identical; breaking now\")\n",
    "        break\n",
    "if all_identical:\n",
    "    print(\"Through some miracle (or more likely a bug), sketches for all trials are identical\")\n",
    "else:\n",
    "    print(\"The sketches are not all identical (the expected outcome)\")"
   ]
  },
  {
   "cell_type": "code",
   "execution_count": 28,
   "id": "5b833fa2",
   "metadata": {},
   "outputs": [
    {
     "data": {
      "text/markdown": [
       "#### Results for sorted stream"
      ],
      "text/plain": [
       "<IPython.core.display.Markdown object>"
      ]
     },
     "metadata": {},
     "output_type": "display_data"
    },
    {
     "data": {
      "text/markdown": [
       "* The average estimated count of element 9050 is 2577.2"
      ],
      "text/plain": [
       "<IPython.core.display.Markdown object>"
      ]
     },
     "metadata": {},
     "output_type": "display_data"
    },
    {
     "data": {
      "text/markdown": [
       "* The estimated number of heavy hitters in each trial were \\[22, 22, 23, 23, 22, 22, 22, 22, 22, 22]"
      ],
      "text/plain": [
       "<IPython.core.display.Markdown object>"
      ]
     },
     "metadata": {},
     "output_type": "display_data"
    },
    {
     "data": {
      "text/markdown": [
       "* The average estimate was 22.2"
      ],
      "text/plain": [
       "<IPython.core.display.Markdown object>"
      ]
     },
     "metadata": {},
     "output_type": "display_data"
    },
    {
     "data": {
      "text/markdown": [
       "#### Results for reverse sorted stream"
      ],
      "text/plain": [
       "<IPython.core.display.Markdown object>"
      ]
     },
     "metadata": {},
     "output_type": "display_data"
    },
    {
     "data": {
      "text/markdown": [
       "* The average estimated count of element 9050 is 2500"
      ],
      "text/plain": [
       "<IPython.core.display.Markdown object>"
      ]
     },
     "metadata": {},
     "output_type": "display_data"
    },
    {
     "data": {
      "text/markdown": [
       "* The estimated number of heavy hitters in each trial were \\[21, 21, 22, 22, 21, 21, 21, 21, 21, 21]"
      ],
      "text/plain": [
       "<IPython.core.display.Markdown object>"
      ]
     },
     "metadata": {},
     "output_type": "display_data"
    },
    {
     "data": {
      "text/markdown": [
       "* The average estimate was 21.2"
      ],
      "text/plain": [
       "<IPython.core.display.Markdown object>"
      ]
     },
     "metadata": {},
     "output_type": "display_data"
    },
    {
     "data": {
      "text/markdown": [
       "#### Results for shuffled stream"
      ],
      "text/plain": [
       "<IPython.core.display.Markdown object>"
      ]
     },
     "metadata": {},
     "output_type": "display_data"
    },
    {
     "data": {
      "text/markdown": [
       "* The average estimated count of element 9050 is 2500"
      ],
      "text/plain": [
       "<IPython.core.display.Markdown object>"
      ]
     },
     "metadata": {},
     "output_type": "display_data"
    },
    {
     "data": {
      "text/markdown": [
       "* The estimated number of heavy hitters in each trial were \\[21, 21, 22, 22, 21, 21, 21, 21, 21, 21]"
      ],
      "text/plain": [
       "<IPython.core.display.Markdown object>"
      ]
     },
     "metadata": {},
     "output_type": "display_data"
    },
    {
     "data": {
      "text/markdown": [
       "* The average estimate was 21.2"
      ],
      "text/plain": [
       "<IPython.core.display.Markdown object>"
      ]
     },
     "metadata": {},
     "output_type": "display_data"
    }
   ],
   "source": [
    "data = [\n",
    "    (\"sorted stream\", forward_stream_sketches_2), \n",
    "    (\"reverse sorted stream\", reverse_stream_sketches_2), \n",
    "    (\"shuffled stream\", random_stream_sketches_2)]\n",
    "\n",
    "for name, stream in data:\n",
    "    heavy_hitter_count, avg_heavy_hitters, estimated_highest_count = sketch_statistics(stream)\n",
    "    markdown(f'#### Results for {name}')\n",
    "    markdown(f'* The average estimated count of element 9050 is {estimated_highest_count}')\n",
    "    markdown(f'* The estimated number of heavy hitters in each trial were \\\\{heavy_hitter_count}')\n",
    "    markdown(f'* The average estimate was {avg_heavy_hitters}')"
   ]
  },
  {
   "cell_type": "markdown",
   "id": "999bc99f",
   "metadata": {},
   "source": [
    "The conservative update optimization improved the count estimations for all stream types. Performance was worse with the forward-sorted stream than for the other two sorts, but it was still better than the estimation without the optimization."
   ]
  }
 ],
 "metadata": {
  "kernelspec": {
   "display_name": "Python 3",
   "language": "python",
   "name": "python3"
  },
  "language_info": {
   "codemirror_mode": {
    "name": "ipython",
    "version": 3
   },
   "file_extension": ".py",
   "mimetype": "text/x-python",
   "name": "python",
   "nbconvert_exporter": "python",
   "pygments_lexer": "ipython3",
   "version": "3.8.8"
  }
 },
 "nbformat": 4,
 "nbformat_minor": 5
}
