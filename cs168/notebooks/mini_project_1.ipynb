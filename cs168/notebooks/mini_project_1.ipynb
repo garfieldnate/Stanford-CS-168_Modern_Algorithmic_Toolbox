{
 "cells": [
  {
   "cell_type": "code",
   "execution_count": 1,
   "id": "3dab3371-89f5-4c6d-9ae0-9123c607812f",
   "metadata": {},
   "outputs": [],
   "source": [
    "###########\n",
    "# PRELUDE #\n",
    "###########\n",
    "\n",
    "# auto-reload changed python files\n",
    "%load_ext autoreload\n",
    "%autoreload 2\n",
    "\n",
    "# nice interactive plots\n",
    "%matplotlib widget\n",
    "\n",
    "# add repository directory to include path\n",
    "from pathlib import Path\n",
    "import sys\n",
    "PROJECT_DIR = Path('../..').resolve()\n",
    "sys.path.append(str(PROJECT_DIR))"
   ]
  },
  {
   "source": [
    "# Part 1: The Power of Two Choices"
   ],
   "cell_type": "markdown",
   "metadata": {}
  },
  {
   "cell_type": "code",
   "execution_count": 22,
   "metadata": {},
   "outputs": [],
   "source": [
    "import matplotlib.pyplot as plt\n",
    "from random import randrange, choice as randchoice\n",
    "from tqdm import trange"
   ]
  },
  {
   "source": [
    "## Goal\n",
    "\n",
    "The goal of this part of the assignment is to gain an appreciation for the unreasonable effectiveness of simple randomized load balancing, and measure the benefits of some lightweight optimizations."
   ],
   "cell_type": "markdown",
   "metadata": {}
  },
  {
   "source": [
    "## Description\n",
    "We consider random processes of the following type: there are N bins, and we throw N\n",
    "balls into them, one by one. \\[This is an abstraction of the sort of allocation problem that arises throughout computing—e.g. allocating tasks on servers, routing packets within parallel networks, etc..] We’ll compare four different strategies for choosing the bin in which to place a given ball."
   ],
   "cell_type": "markdown",
   "metadata": {}
  },
  {
   "source": [
    "1. Select one of the N bins uniformly at random, and place the current ball in it."
   ],
   "cell_type": "markdown",
   "metadata": {}
  },
  {
   "source": [],
   "cell_type": "markdown",
   "metadata": {}
  },
  {
   "cell_type": "code",
   "execution_count": 3,
   "metadata": {},
   "outputs": [],
   "source": [
    "def choose_bin_1(N, bins):\n",
    "    return randrange(N)"
   ]
  },
  {
   "source": [
    "2. Select two of the N bins uniformly at random (either with or without replacement), and look at how many balls are already in each. If one bin has strictly fewer balls than the other, place the current ball in that bin. If both bins have the same number of balls, pick one of the two at random and place the current ball in it."
   ],
   "cell_type": "markdown",
   "metadata": {}
  },
  {
   "cell_type": "code",
   "execution_count": 65,
   "metadata": {},
   "outputs": [],
   "source": [
    "def choose_bin_2(N, bins):\n",
    "    bin_1 = choose_bin_1(N, bins)\n",
    "    bin_2 = choose_bin_1(N, bins)\n",
    "    \n",
    "    bin_1_size = bins[bin_1]\n",
    "    bin_2_size = bins[bin_2]\n",
    "    if bin_1_size == bin_2_size:\n",
    "        return randchoice([bin_1, bin_2])\n",
    "\n",
    "    elif bin_1_size < bin_2_size:\n",
    "        return bin_1\n",
    "    else:\n",
    "        return bin_2"
   ]
  },
  {
   "source": [
    "3. Same as the previous strategy, except choosing three bins at random rather than two."
   ],
   "cell_type": "markdown",
   "metadata": {}
  },
  {
   "cell_type": "code",
   "execution_count": 5,
   "metadata": {},
   "outputs": [],
   "source": [
    "def choose_bin_3(N, bins):\n",
    "    bin_1 = choose_bin_1(N, bins)\n",
    "    bin_2 = choose_bin_1(N, bins)\n",
    "    bin_3 = choose_bin_1(N, bins)\n",
    "\n",
    "    bin_1_size = bins[bin_1]\n",
    "    bin_2_size = bins[bin_2]\n",
    "    bin_3_size = bins[bin_3]\n",
    "\n",
    "    if bin_1_size == bin_2_size == bin_3_size:\n",
    "        # TODO: is this really necessary? Can't we just pick bin_1?\n",
    "        return randchoice([bin_1, bin_2, bin_3])\n",
    "\n",
    "    min_size = bin_1_size\n",
    "    min_bin = bin_1\n",
    "    \n",
    "    if bin_2_size < min_size:\n",
    "        min_size = bin_2_size\n",
    "        min_bin = bin_2\n",
    "    \n",
    "    if bin_3_size < min_size:\n",
    "        min_bin = bin_3\n",
    "    \n",
    "    return min_bin"
   ]
  },
  {
   "source": [
    "4. Select two bins as follows: the first bin is selected uniformly from the first N/2 bins, and the second uniformly from the last N/2 bins. (You can assume that N is even.) If one bin has strictly fewer balls than the other, place the current ball in that bin. If both bins have the same number of balls, place the current ball (deterministically) in the first of the two bins."
   ],
   "cell_type": "markdown",
   "metadata": {}
  },
  {
   "cell_type": "code",
   "execution_count": 59,
   "metadata": {},
   "outputs": [],
   "source": [
    "def choose_bin_4(N, bins):\n",
    "    halfN = N // 2\n",
    "    bin_1 = choose_bin_1(halfN, bins)\n",
    "    bin_2 = choose_bin_1(halfN, bins) + halfN\n",
    "    \n",
    "    bin_1_size = bins[bin_1]\n",
    "    bin_2_size = bins[bin_2]\n",
    "    if bin_1_size < bin_2_size:\n",
    "        return bin_1\n",
    "    elif bin_2_size < bin_1_size:\n",
    "        return bin_2\n",
    "    else:\n",
    "        return bin_1\n",
    "        # return randchoice([bin_1, bin_2])"
   ]
  },
  {
   "source": [
    "(a) (5 points) Write code to simulate strategies 1–4. For each strategy, there should be a function that takes the number N of balls and bins as input, simulates a run of the corresponding random process, and outputs the number of balls in the most populated bin (denoted by X below). Before running your code, try to guess how the above schemes will compare to eachother."
   ],
   "cell_type": "markdown",
   "metadata": {}
  },
  {
   "cell_type": "code",
   "execution_count": 7,
   "metadata": {},
   "outputs": [
    {
     "output_type": "execute_result",
     "data": {
      "text/plain": [
       "'OK'"
      ]
     },
     "metadata": {},
     "execution_count": 7
    }
   ],
   "source": [
    "def ball_toss(N, bin_chooser):\n",
    "    \"\"\"Place N balls into N bins, choosing the bin using the bin_chooser function.\n",
    "    Return the maximum number of balls in any bin.\"\"\"\n",
    "    bins = [0] * N\n",
    "    max_size = 0\n",
    "    \n",
    "    for _ in range(N):\n",
    "        landed_bin = bin_chooser(N, bins)\n",
    "        bins[landed_bin] += 1\n",
    "        \n",
    "        if bins[landed_bin] > max_size:\n",
    "            max_size = bins[landed_bin]\n",
    "    return max_size\n",
    "\n",
    "# test each bin chooser function\n",
    "ball_toss(10, choose_bin_1)\n",
    "ball_toss(10, choose_bin_2)\n",
    "ball_toss(10, choose_bin_3)\n",
    "ball_toss(10, choose_bin_4)\n",
    "\"OK\""
   ]
  },
  {
   "source": [
    "### Hypothesis\n",
    "\n",
    "I think 1 should do the worst job of load balancing; the nature of randomness is such that some bins will happen to be hit many times. 2 should be better, 3 even better than that. I think 4 should be equivalent to 2, since, unless our random function is not very good, there should not be any structure in the array of bins, and thus it should not help to choose them specifically from the first and second half of the array."
   ],
   "cell_type": "markdown",
   "metadata": {}
  },
  {
   "source": [
    "(b) (10 points) Let N = 200, 000 and simulate each of the four strategies 30 times. For each strategy, plot the histogram of the 30 values of X. Discuss the pros and cons of the different strategies. Does one of them stand out as a “sweet spot”? \\[As with many of the mini-projects, there is no single “right answer” to this question. Instead, the idea is to have you think about the processes and your experiments, and draw reasonable conclusions from this analysis.]"
   ],
   "cell_type": "markdown",
   "metadata": {}
  },
  {
   "cell_type": "code",
   "execution_count": 14,
   "metadata": {},
   "outputs": [],
   "source": [
    "def simulate(bin_chooser):\n",
    "    max_values = []\n",
    "    N = 200_000\n",
    "    for _ in trange(100):\n",
    "        max_values.append(ball_toss(N, bin_chooser))\n",
    "    return max_values"
   ]
  },
  {
   "cell_type": "code",
   "execution_count": 16,
   "metadata": {},
   "outputs": [
    {
     "output_type": "stream",
     "name": "stderr",
     "text": [
      "100%|██████████| 100/100 [00:41<00:00,  2.41it/s]\n"
     ]
    }
   ],
   "source": [
    "max_values_1 = simulate(choose_bin_1)"
   ]
  },
  {
   "cell_type": "code",
   "execution_count": 66,
   "metadata": {},
   "outputs": [
    {
     "output_type": "stream",
     "name": "stderr",
     "text": [
      "100%|██████████| 100/100 [01:24<00:00,  1.19it/s]\n"
     ]
    }
   ],
   "source": [
    "max_values_2 = simulate(choose_bin_2)"
   ]
  },
  {
   "cell_type": "code",
   "execution_count": 20,
   "metadata": {},
   "outputs": [
    {
     "output_type": "stream",
     "name": "stderr",
     "text": [
      "100%|██████████| 100/100 [01:42<00:00,  1.02s/it]\n"
     ]
    }
   ],
   "source": [
    "max_values_3 = simulate(choose_bin_3)"
   ]
  },
  {
   "cell_type": "code",
   "execution_count": 60,
   "metadata": {},
   "outputs": [
    {
     "output_type": "stream",
     "name": "stderr",
     "text": [
      "100%|██████████| 100/100 [01:16<00:00,  1.31it/s]\n"
     ]
    }
   ],
   "source": [
    "max_values_4 = simulate(choose_bin_4)"
   ]
  },
  {
   "cell_type": "code",
   "execution_count": 67,
   "metadata": {},
   "outputs": [
    {
     "output_type": "display_data",
     "data": {
      "text/plain": "Canvas(toolbar=Toolbar(toolitems=[('Home', 'Reset original view', 'home', 'home'), ('Back', 'Back to previous …",
      "application/vnd.jupyter.widget-view+json": {
       "version_major": 2,
       "version_minor": 0,
       "model_id": "45a8b69cc83d4668924b3cc7599ff1b2"
      }
     },
     "metadata": {}
    }
   ],
   "source": [
    "data = [\n",
    "    (\"Method 1\", max_values_1),\n",
    "    (\"Method 2\", max_values_2), \n",
    "    (\"Method 3\", max_values_3), \n",
    "    (\"Method 4\", max_values_4)]\n",
    "\n",
    "fig = plt.figure()\n",
    "for i, d in enumerate(data):\n",
    "    ax=fig.add_subplot(4, 1, i + 1)\n",
    "    ax.hist(d[1], bins=range(2,10), rwidth=.5, align='left')\n",
    "    ax.set_title(d[0])\n",
    "    ax.set_xlabel(\"Maximum Bin Value\", size=14)\n",
    "fig.suptitle(\"Simulated Performance of Bin-Choosing Functions\")\n",
    "fig.supylabel(\"Simulated Frequency\")\n",
    "fig.tight_layout()\n",
    "\n",
    "fig.show()"
   ]
  },
  {
   "source": [
    "### Analysis\n",
    "\n",
    "Looks like 3 & 4 are better than 2, which is better than 1. I did not expect 4 to perform better than 2, but in retrospect it makes sense: random numbers tend to cluster, and could even be the same twice in a row! Method 4 guarantees that the 2 choices of bin are not the same, and probably also aleves the clustering issue more generally. The performance of 4 was better than 2 and 3, too, since the implementation was also simpler, so it does stand out as a possible sweet spot, assuming we can take the extra 1/3 processing time to ensure we have a good spread of bins.\n",
    "\n",
    "I do have an open question regarding the resolution of ties. Methods 2 and 3 resolve ties via random choice; I tried deterministically choosing the first bin in method 2, but there was no change in final outcome (suggesting this is probably fine to do for time optimization). However, I also tried changing method 4 to use a random choice instead of always picking the first bin, and the final outcomes worsened, matching method 2 almost perfectly. Why would this be?"
   ],
   "cell_type": "markdown",
   "metadata": {}
  },
  {
   "source": [
    "(c) (5 points) Propose an analogy between the first of the random processes above and the standard implementation of hashing N elements into a hash table with N buckets, and resolving collisions via chaining (i.e., one linked list per bucket). Discuss in particular any relationships between X and search times in the hash table."
   ],
   "cell_type": "markdown",
   "metadata": {}
  },
  {
   "source": [
    "The hypoothetical hash table performance can be compared to strategy 1 above: a pseudo-random hash function picks the bucket to put a value in, just as the function placed balls in random bins. The maximum number of balls in a bin is analogous to the number of values placed in a single bucket (in Java these are all placed in `TreeMap` when possible, otherwise a `LinkedList`). The maximum numbers in the ball-tossing simulation indicate the maximum number of iterate-and-compare steps required to find a value in the hash table."
   ],
   "cell_type": "markdown",
   "metadata": {}
  },
  {
   "source": [
    "(d) (5 points) Do the other random processes suggest alternative implementations of hash tables with chaining? Discuss the trade-offs between the different hash table implementations that you propose (e.g., in terms of insertion time vs. search time)."
   ],
   "cell_type": "markdown",
   "metadata": {}
  },
  {
   "source": [
    "One could use multiple hash functions to place a value into one of multiple buckets, choosing the bucket with the fewest entries. Then the query method would search through all of the relevant buckets. The total number of iterations should still be the same on average, but the worst case performance should occur less often because we will do a better job of distributing the values. It's possible that the CPU cache behavior would be a worse, since we would access more disparate memory locations more often. Not sure about that, though."
   ],
   "cell_type": "markdown",
   "metadata": {}
  },
  {
   "source": [
    "# Part 2"
   ],
   "cell_type": "markdown",
   "metadata": {}
  },
  {
   "source": [
    "## Goal\n",
    "The goal of this part is to understand the count-min sketch (from Lecture #2) via an implementation, and to explore the benefits of a “conservative updates” optimization."
   ],
   "cell_type": "markdown",
   "metadata": {}
  },
  {
   "cell_type": "code",
   "execution_count": null,
   "metadata": {},
   "outputs": [],
   "source": []
  }
 ],
 "metadata": {
  "kernelspec": {
   "display_name": "Python 3",
   "language": "python",
   "name": "python3"
  },
  "language_info": {
   "codemirror_mode": {
    "name": "ipython",
    "version": 3
   },
   "file_extension": ".py",
   "mimetype": "text/x-python",
   "name": "python",
   "nbconvert_exporter": "python",
   "pygments_lexer": "ipython3",
   "version": "3.9.2-final"
  }
 },
 "nbformat": 4,
 "nbformat_minor": 5
}