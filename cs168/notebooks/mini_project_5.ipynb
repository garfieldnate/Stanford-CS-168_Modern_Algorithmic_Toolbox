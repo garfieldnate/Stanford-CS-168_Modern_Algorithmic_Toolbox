{
 "cells": [
  {
   "cell_type": "code",
   "execution_count": 2,
   "id": "0dddb576-fe97-4c5d-816b-f90760101e3c",
   "metadata": {},
   "outputs": [
    {
     "data": {
      "text/html": [
       "\n",
       "<style>\n",
       ".custom-assignment-text {\n",
       "    background-color: lightyellow;\n",
       "    border: 1px solid darkkhaki; \n",
       "    padding: 10px;\n",
       "    border-radius: 2px\n",
       "}\n",
       "</style>"
      ],
      "text/plain": [
       "<IPython.core.display.HTML object>"
      ]
     },
     "metadata": {},
     "output_type": "display_data"
    },
    {
     "data": {
      "text/html": [
       "\n",
       "<style>\n",
       ".jp-OutputArea-prompt:empty {\n",
       "  padding: 0;\n",
       "  border: 0;\n",
       "}\n",
       "</style>\n"
      ],
      "text/plain": [
       "<IPython.core.display.HTML object>"
      ]
     },
     "metadata": {},
     "output_type": "display_data"
    },
    {
     "data": {
      "text/markdown": [
       "#### Custom functionality enabled:"
      ],
      "text/plain": [
       "<IPython.core.display.Markdown object>"
      ]
     },
     "metadata": {},
     "output_type": "display_data"
    },
    {
     "data": {
      "text/markdown": [
       "* Format a code cell by entering %%black at the top of it"
      ],
      "text/plain": [
       "<IPython.core.display.Markdown object>"
      ]
     },
     "metadata": {},
     "output_type": "display_data"
    },
    {
     "data": {
      "text/markdown": [
       "* Surround markdown cells with  `<div class=\"custom-assignment-text\">\\n\\n ... \\n\\n</div>` to format course-provided assignment text"
      ],
      "text/plain": [
       "<IPython.core.display.Markdown object>"
      ]
     },
     "metadata": {},
     "output_type": "display_data"
    },
    {
     "data": {
      "text/markdown": [
       "* Use `ok(<message>)` to notify of a passing test"
      ],
      "text/plain": [
       "<IPython.core.display.Markdown object>"
      ]
     },
     "metadata": {},
     "output_type": "display_data"
    },
    {
     "data": {
      "text/markdown": [
       "* Use `assert_globals_clean()` to check that all globals are managed (private, constants, etc.)"
      ],
      "text/plain": [
       "<IPython.core.display.Markdown object>"
      ]
     },
     "metadata": {},
     "output_type": "display_data"
    },
    {
     "data": {
      "text/markdown": [
       "* Use `display_table` to display data in an inline HTML table"
      ],
      "text/plain": [
       "<IPython.core.display.Markdown object>"
      ]
     },
     "metadata": {},
     "output_type": "display_data"
    }
   ],
   "source": [
    "###########\n",
    "# PRELUDE #\n",
    "###########\n",
    "\n",
    "# auto-reload changed python files\n",
    "%load_ext autoreload\n",
    "%autoreload 2\n",
    "\n",
    "# Format cells with %%black\n",
    "%load_ext blackcellmagic\n",
    "\n",
    "# nice interactive plots\n",
    "%matplotlib inline\n",
    "\n",
    "import matplotlib\n",
    "# enable more math expressions in matplotlib labels\n",
    "matplotlib.rcParams['text.latex.preamble'] = r\"\\usepackage{amsmath}\"\n",
    "# no blurry plots!\n",
    "%config InlineBackend.figure_format = 'retina'\n",
    "\n",
    "# add repository directory to include path\n",
    "from pathlib import Path\n",
    "import sys\n",
    "PROJECT_DIR = Path('../..').resolve()\n",
    "sys.path.append(str(PROJECT_DIR))\n",
    "\n",
    "import inspect\n",
    "def _acceptable_global(name, value):\n",
    "    \"\"\"Returns True if a global variable with name/value can be safely ignored\"\"\"\n",
    "    return (\n",
    "        # stuff that's normal to share everywhere\n",
    "        inspect.isroutine(value) or\n",
    "        inspect.isclass(value) or\n",
    "        inspect.ismodule(value) or\n",
    "        # leading underscore marks private variables\n",
    "        name.startswith('_') or\n",
    "        # all-caps names indicate constants\n",
    "        name.upper() == name or\n",
    "        # ignore IPython stuff\n",
    "        name in {'In', 'Out'} or \n",
    "        getattr(value, '__module__', '').startswith('IPython'))\n",
    "\n",
    "def assert_globals_clean():\n",
    "    \"\"\"Raises an assertion error if there are unmanaged global variables.\n",
    "       Variables that are considered 'managed' include those formatted with \n",
    "       ALL_CAPS (constants), _a_leading_underscore (recognized as a global but at\n",
    "       least indicated as private to the cell), classes and modules, automatic\n",
    "       imports from IPython, and functions generally.\"\"\"\n",
    "    unmanaged_globals = {k:type(v) for k, v in globals().items() if not _acceptable_global(k, v)}\n",
    "    if unmanaged_globals != {}:\n",
    "        raise AssertionError(f\"Unmanaged globals found: {unmanaged_globals}\")\n",
    "    ok(\"No unmanaged globals detected\")\n",
    "\n",
    "from IPython.display import display, Markdown, HTML\n",
    "\n",
    "def markdown(s):\n",
    "    return display(Markdown(s))\n",
    "\n",
    "def html(s):\n",
    "    return display(HTML(s))\n",
    "\n",
    "def ok(message=\"OK\"):\n",
    "    html(f\"<div class=\\\"alert alert-block alert-success\\\">{message}</div>\")\n",
    "\n",
    "html(\"\"\"\n",
    "<style>\n",
    ".custom-assignment-text {\n",
    "    background-color: lightyellow;\n",
    "    border: 1px solid darkkhaki; \n",
    "    padding: 10px;\n",
    "    border-radius: 2px\n",
    "}\n",
    "</style>\"\"\")\n",
    "\n",
    "# Fixes space left behind tqdm progress bars with leave=False\n",
    "# see https://github.com/jupyterlab/jupyterlab/issues/7354\n",
    "html(\"\"\"\n",
    "<style>\n",
    ".jp-OutputArea-prompt:empty {\n",
    "  padding: 0;\n",
    "  border: 0;\n",
    "}\n",
    "</style>\n",
    "\"\"\")\n",
    "\n",
    "def display_table(data, title, headers):\n",
    "    \"\"\"Display data in an HTML table inline in the notebook\n",
    "       data: list of lists of values to put in table rows\n",
    "       title: to set table caption\n",
    "       headers: list of table header strings\"\"\"\n",
    "    text = \"<table>\"\n",
    "    text += f\"<caption>{title}</caption>\"\n",
    "    \n",
    "    text += \"<tr>\"\n",
    "    for h in headers:\n",
    "        text += f'<th style=\"text-align:center\">{h}</th>'\n",
    "    text += \"</tr>\"\n",
    "    \n",
    "    for row in data:\n",
    "        text += \"<tr>\"\n",
    "        for value in row:\n",
    "            text += f\"<td>{value}</td>\"\n",
    "        text += \"</tr>\"\n",
    "    text += \"</table>\"\n",
    "    html(text)\n",
    "\n",
    "markdown(\"#### Custom functionality enabled:\")\n",
    "markdown(\"* Format a code cell by entering %%black at the top of it\")\n",
    "markdown(\"* Surround markdown cells with  `<div class=\\\"custom-assignment-text\\\">\\\\n\\\\n ... \\\\n\\\\n</div>` to format course-provided assignment text\")\n",
    "markdown(\"* Use `ok(<message>)` to notify of a passing test\")\n",
    "markdown(\"* Use `assert_globals_clean()` to check that all globals are managed (private, constants, etc.)\")\n",
    "markdown(\"* Use `display_table` to display data in an inline HTML table\")"
   ]
  },
  {
   "cell_type": "markdown",
   "id": "4765f227-767e-4258-b0c1-ca506ffecee6",
   "metadata": {},
   "source": [
    "<div class=\"custom-assignment-text\">\n",
    "    \n",
    "\n",
    "# Part 1: SVD for learning word embeddings\n",
    "\n",
    "This question is about word embeddings. A word embedding is a mapping from words, to vector representations of the words. Ideally, the geometry of the vectors will capture the semantic and syntactic meaning of the words—for example, words similar in meaning should have representations which are close to each other in the vector space. A good word embedding provides a means for mapping text into vectors, from which you can then apply all the usual learning algorithms that take, as input, a set of vectors. Word embeddings have taken NLP by storm in the past 5-10 years, and have become the backbone for numerous NLP tasks such as question answering and machine translation. There are neural-network approaches to learning word embeddings, but in this question we will study a simple SVD based scheme which does a surprisingly good job at learning word embeddings. \n",
    "\n",
    "We have created a word co-occurrence matrix $M$ of the 10,000 most frequent words from a Wikipedia corpus with 1.5 billion words. Entry $M_{ij}$ of the matrix denotes the number of times in the corpus that the $i$th and $j$th words occur within 5 words of each other. The file co_occur.csv contains the symmetric co-occurence matrix, $M$. The file dictionary.txt contains the dictionary for interpreting this matrix, the $i$th row of the dictionary is the word corresponding to the $i$th row and column of $M$. The dictionary is sorted according to the word frequencies. Therefore the first word in the dictionary—“the” is the most common word in the corpus and the first row and column of $M$ contains the co-occurrence counts of “the” with every other word in the dictionary.\n",
    "\n",
    "</div>"
   ]
  },
  {
   "cell_type": "code",
   "execution_count": 40,
   "id": "2fa35e85-24ce-41f3-aea7-b68a0cdb4665",
   "metadata": {},
   "outputs": [],
   "source": [
    "from dataclasses import dataclass\n",
    "\n",
    "from matplotlib import pyplot as plt\n",
    "import numpy as np\n",
    "import pandas as pd\n",
    "from pandas._testing import assert_frame_equal\n",
    "from sklearn.utils.extmath import randomized_svd\n",
    "\n",
    "from cs168.mini_project_5 import load_co_occurence_data"
   ]
  },
  {
   "cell_type": "markdown",
   "id": "e33db1ea-8aaf-49fd-9e63-80b4bcbbf193",
   "metadata": {},
   "source": [
    "<div class=\"custom-assignment-text\">\n",
    "    \n",
    "\n",
    "a. Make sure you can import the given datasets into whatever language you’re using. If you’re using MATLAB, you can import the data using the GUI. Also, make sure you can interpret the entries of the co-occurrence matrix using the dictionary, you can try to find the co-occurrence of a few pairs of common words to make sure of this.\n",
    "\n",
    "</div>"
   ]
  },
  {
   "cell_type": "code",
   "execution_count": 11,
   "id": "67561d93-a9c6-45f3-9662-deef227b3f6f",
   "metadata": {},
   "outputs": [],
   "source": [
    "CO_OCCURRENCES, DICTIONARY = load_co_occurence_data()"
   ]
  },
  {
   "cell_type": "code",
   "execution_count": 12,
   "id": "4d2ba351-2a39-4cb0-82af-22402ed6c98f",
   "metadata": {},
   "outputs": [
    {
     "data": {
      "text/html": [
       "<div>\n",
       "<style scoped>\n",
       "    .dataframe tbody tr th:only-of-type {\n",
       "        vertical-align: middle;\n",
       "    }\n",
       "\n",
       "    .dataframe tbody tr th {\n",
       "        vertical-align: top;\n",
       "    }\n",
       "\n",
       "    .dataframe thead th {\n",
       "        text-align: right;\n",
       "    }\n",
       "</style>\n",
       "<table border=\"1\" class=\"dataframe\">\n",
       "  <thead>\n",
       "    <tr style=\"text-align: right;\">\n",
       "      <th></th>\n",
       "      <th>0</th>\n",
       "      <th>1</th>\n",
       "      <th>2</th>\n",
       "      <th>3</th>\n",
       "      <th>4</th>\n",
       "      <th>5</th>\n",
       "      <th>6</th>\n",
       "      <th>7</th>\n",
       "      <th>8</th>\n",
       "      <th>9</th>\n",
       "      <th>...</th>\n",
       "      <th>9990</th>\n",
       "      <th>9991</th>\n",
       "      <th>9992</th>\n",
       "      <th>9993</th>\n",
       "      <th>9994</th>\n",
       "      <th>9995</th>\n",
       "      <th>9996</th>\n",
       "      <th>9997</th>\n",
       "      <th>9998</th>\n",
       "      <th>9999</th>\n",
       "    </tr>\n",
       "  </thead>\n",
       "  <tbody>\n",
       "    <tr>\n",
       "      <th>0</th>\n",
       "      <td>0.0</td>\n",
       "      <td>24637000.0</td>\n",
       "      <td>13531000.0</td>\n",
       "      <td>6871500.0</td>\n",
       "      <td>7348100.0</td>\n",
       "      <td>2584800.0</td>\n",
       "      <td>2512900.0</td>\n",
       "      <td>3792100.0</td>\n",
       "      <td>4181000.0</td>\n",
       "      <td>2261900.0</td>\n",
       "      <td>...</td>\n",
       "      <td>2046.5</td>\n",
       "      <td>372.5</td>\n",
       "      <td>470.5</td>\n",
       "      <td>596.0</td>\n",
       "      <td>1672.0</td>\n",
       "      <td>688.5</td>\n",
       "      <td>1603.0</td>\n",
       "      <td>626.0</td>\n",
       "      <td>329.0</td>\n",
       "      <td>423.5</td>\n",
       "    </tr>\n",
       "    <tr>\n",
       "      <th>1</th>\n",
       "      <td>24637000.0</td>\n",
       "      <td>0.0</td>\n",
       "      <td>1388900.0</td>\n",
       "      <td>2305900.0</td>\n",
       "      <td>495270.0</td>\n",
       "      <td>564110.0</td>\n",
       "      <td>671590.0</td>\n",
       "      <td>391060.0</td>\n",
       "      <td>297400.0</td>\n",
       "      <td>867230.0</td>\n",
       "      <td>...</td>\n",
       "      <td>358.0</td>\n",
       "      <td>540.5</td>\n",
       "      <td>650.0</td>\n",
       "      <td>559.0</td>\n",
       "      <td>144.5</td>\n",
       "      <td>496.0</td>\n",
       "      <td>659.5</td>\n",
       "      <td>319.5</td>\n",
       "      <td>383.0</td>\n",
       "      <td>272.5</td>\n",
       "    </tr>\n",
       "    <tr>\n",
       "      <th>2</th>\n",
       "      <td>13531000.0</td>\n",
       "      <td>1388900.0</td>\n",
       "      <td>0.0</td>\n",
       "      <td>2761000.0</td>\n",
       "      <td>1095500.0</td>\n",
       "      <td>1457800.0</td>\n",
       "      <td>721180.0</td>\n",
       "      <td>457170.0</td>\n",
       "      <td>372010.0</td>\n",
       "      <td>533080.0</td>\n",
       "      <td>...</td>\n",
       "      <td>513.5</td>\n",
       "      <td>305.5</td>\n",
       "      <td>440.0</td>\n",
       "      <td>304.0</td>\n",
       "      <td>863.5</td>\n",
       "      <td>720.0</td>\n",
       "      <td>733.0</td>\n",
       "      <td>469.0</td>\n",
       "      <td>1018.0</td>\n",
       "      <td>721.0</td>\n",
       "    </tr>\n",
       "    <tr>\n",
       "      <th>3</th>\n",
       "      <td>6871500.0</td>\n",
       "      <td>2305900.0</td>\n",
       "      <td>2761000.0</td>\n",
       "      <td>0.0</td>\n",
       "      <td>1272200.0</td>\n",
       "      <td>1150600.0</td>\n",
       "      <td>824610.0</td>\n",
       "      <td>621660.0</td>\n",
       "      <td>610490.0</td>\n",
       "      <td>494320.0</td>\n",
       "      <td>...</td>\n",
       "      <td>788.0</td>\n",
       "      <td>1042.5</td>\n",
       "      <td>989.0</td>\n",
       "      <td>1065.5</td>\n",
       "      <td>257.0</td>\n",
       "      <td>433.0</td>\n",
       "      <td>568.5</td>\n",
       "      <td>632.0</td>\n",
       "      <td>616.0</td>\n",
       "      <td>293.5</td>\n",
       "    </tr>\n",
       "    <tr>\n",
       "      <th>4</th>\n",
       "      <td>7348100.0</td>\n",
       "      <td>495270.0</td>\n",
       "      <td>1095500.0</td>\n",
       "      <td>1272200.0</td>\n",
       "      <td>0.0</td>\n",
       "      <td>892450.0</td>\n",
       "      <td>664580.0</td>\n",
       "      <td>291400.0</td>\n",
       "      <td>407860.0</td>\n",
       "      <td>413320.0</td>\n",
       "      <td>...</td>\n",
       "      <td>219.0</td>\n",
       "      <td>224.0</td>\n",
       "      <td>212.5</td>\n",
       "      <td>237.0</td>\n",
       "      <td>43.0</td>\n",
       "      <td>161.0</td>\n",
       "      <td>162.5</td>\n",
       "      <td>171.5</td>\n",
       "      <td>94.5</td>\n",
       "      <td>97.0</td>\n",
       "    </tr>\n",
       "    <tr>\n",
       "      <th>...</th>\n",
       "      <td>...</td>\n",
       "      <td>...</td>\n",
       "      <td>...</td>\n",
       "      <td>...</td>\n",
       "      <td>...</td>\n",
       "      <td>...</td>\n",
       "      <td>...</td>\n",
       "      <td>...</td>\n",
       "      <td>...</td>\n",
       "      <td>...</td>\n",
       "      <td>...</td>\n",
       "      <td>...</td>\n",
       "      <td>...</td>\n",
       "      <td>...</td>\n",
       "      <td>...</td>\n",
       "      <td>...</td>\n",
       "      <td>...</td>\n",
       "      <td>...</td>\n",
       "      <td>...</td>\n",
       "      <td>...</td>\n",
       "      <td>...</td>\n",
       "    </tr>\n",
       "    <tr>\n",
       "      <th>9995</th>\n",
       "      <td>688.5</td>\n",
       "      <td>496.0</td>\n",
       "      <td>720.0</td>\n",
       "      <td>433.0</td>\n",
       "      <td>161.0</td>\n",
       "      <td>192.0</td>\n",
       "      <td>219.0</td>\n",
       "      <td>250.0</td>\n",
       "      <td>63.5</td>\n",
       "      <td>116.5</td>\n",
       "      <td>...</td>\n",
       "      <td>0.0</td>\n",
       "      <td>0.0</td>\n",
       "      <td>0.0</td>\n",
       "      <td>2.0</td>\n",
       "      <td>0.0</td>\n",
       "      <td>0.0</td>\n",
       "      <td>1.0</td>\n",
       "      <td>0.0</td>\n",
       "      <td>0.0</td>\n",
       "      <td>2.5</td>\n",
       "    </tr>\n",
       "    <tr>\n",
       "      <th>9996</th>\n",
       "      <td>1603.0</td>\n",
       "      <td>659.5</td>\n",
       "      <td>733.0</td>\n",
       "      <td>568.5</td>\n",
       "      <td>162.5</td>\n",
       "      <td>158.0</td>\n",
       "      <td>289.0</td>\n",
       "      <td>133.0</td>\n",
       "      <td>137.5</td>\n",
       "      <td>163.0</td>\n",
       "      <td>...</td>\n",
       "      <td>0.0</td>\n",
       "      <td>0.0</td>\n",
       "      <td>1.0</td>\n",
       "      <td>0.0</td>\n",
       "      <td>0.0</td>\n",
       "      <td>1.0</td>\n",
       "      <td>0.0</td>\n",
       "      <td>8.0</td>\n",
       "      <td>8.0</td>\n",
       "      <td>0.0</td>\n",
       "    </tr>\n",
       "    <tr>\n",
       "      <th>9997</th>\n",
       "      <td>626.0</td>\n",
       "      <td>319.5</td>\n",
       "      <td>469.0</td>\n",
       "      <td>632.0</td>\n",
       "      <td>171.5</td>\n",
       "      <td>95.0</td>\n",
       "      <td>160.0</td>\n",
       "      <td>85.5</td>\n",
       "      <td>64.5</td>\n",
       "      <td>198.5</td>\n",
       "      <td>...</td>\n",
       "      <td>0.0</td>\n",
       "      <td>3.5</td>\n",
       "      <td>0.0</td>\n",
       "      <td>5.0</td>\n",
       "      <td>0.0</td>\n",
       "      <td>0.0</td>\n",
       "      <td>8.0</td>\n",
       "      <td>0.0</td>\n",
       "      <td>69.5</td>\n",
       "      <td>0.5</td>\n",
       "    </tr>\n",
       "    <tr>\n",
       "      <th>9998</th>\n",
       "      <td>329.0</td>\n",
       "      <td>383.0</td>\n",
       "      <td>1018.0</td>\n",
       "      <td>616.0</td>\n",
       "      <td>94.5</td>\n",
       "      <td>71.5</td>\n",
       "      <td>142.0</td>\n",
       "      <td>61.5</td>\n",
       "      <td>210.5</td>\n",
       "      <td>103.5</td>\n",
       "      <td>...</td>\n",
       "      <td>0.0</td>\n",
       "      <td>1.0</td>\n",
       "      <td>0.0</td>\n",
       "      <td>0.0</td>\n",
       "      <td>0.0</td>\n",
       "      <td>0.0</td>\n",
       "      <td>8.0</td>\n",
       "      <td>69.5</td>\n",
       "      <td>0.0</td>\n",
       "      <td>0.0</td>\n",
       "    </tr>\n",
       "    <tr>\n",
       "      <th>9999</th>\n",
       "      <td>423.5</td>\n",
       "      <td>272.5</td>\n",
       "      <td>721.0</td>\n",
       "      <td>293.5</td>\n",
       "      <td>97.0</td>\n",
       "      <td>90.0</td>\n",
       "      <td>99.0</td>\n",
       "      <td>73.0</td>\n",
       "      <td>69.5</td>\n",
       "      <td>121.5</td>\n",
       "      <td>...</td>\n",
       "      <td>0.0</td>\n",
       "      <td>0.0</td>\n",
       "      <td>0.0</td>\n",
       "      <td>0.5</td>\n",
       "      <td>337.0</td>\n",
       "      <td>2.5</td>\n",
       "      <td>0.0</td>\n",
       "      <td>0.5</td>\n",
       "      <td>0.0</td>\n",
       "      <td>0.0</td>\n",
       "    </tr>\n",
       "  </tbody>\n",
       "</table>\n",
       "<p>10000 rows × 10000 columns</p>\n",
       "</div>"
      ],
      "text/plain": [
       "            0           1           2          3          4          5     \\\n",
       "0            0.0  24637000.0  13531000.0  6871500.0  7348100.0  2584800.0   \n",
       "1     24637000.0         0.0   1388900.0  2305900.0   495270.0   564110.0   \n",
       "2     13531000.0   1388900.0         0.0  2761000.0  1095500.0  1457800.0   \n",
       "3      6871500.0   2305900.0   2761000.0        0.0  1272200.0  1150600.0   \n",
       "4      7348100.0    495270.0   1095500.0  1272200.0        0.0   892450.0   \n",
       "...          ...         ...         ...        ...        ...        ...   \n",
       "9995       688.5       496.0       720.0      433.0      161.0      192.0   \n",
       "9996      1603.0       659.5       733.0      568.5      162.5      158.0   \n",
       "9997       626.0       319.5       469.0      632.0      171.5       95.0   \n",
       "9998       329.0       383.0      1018.0      616.0       94.5       71.5   \n",
       "9999       423.5       272.5       721.0      293.5       97.0       90.0   \n",
       "\n",
       "           6          7          8          9     ...    9990    9991   9992  \\\n",
       "0     2512900.0  3792100.0  4181000.0  2261900.0  ...  2046.5   372.5  470.5   \n",
       "1      671590.0   391060.0   297400.0   867230.0  ...   358.0   540.5  650.0   \n",
       "2      721180.0   457170.0   372010.0   533080.0  ...   513.5   305.5  440.0   \n",
       "3      824610.0   621660.0   610490.0   494320.0  ...   788.0  1042.5  989.0   \n",
       "4      664580.0   291400.0   407860.0   413320.0  ...   219.0   224.0  212.5   \n",
       "...         ...        ...        ...        ...  ...     ...     ...    ...   \n",
       "9995      219.0      250.0       63.5      116.5  ...     0.0     0.0    0.0   \n",
       "9996      289.0      133.0      137.5      163.0  ...     0.0     0.0    1.0   \n",
       "9997      160.0       85.5       64.5      198.5  ...     0.0     3.5    0.0   \n",
       "9998      142.0       61.5      210.5      103.5  ...     0.0     1.0    0.0   \n",
       "9999       99.0       73.0       69.5      121.5  ...     0.0     0.0    0.0   \n",
       "\n",
       "        9993    9994   9995    9996   9997    9998   9999  \n",
       "0      596.0  1672.0  688.5  1603.0  626.0   329.0  423.5  \n",
       "1      559.0   144.5  496.0   659.5  319.5   383.0  272.5  \n",
       "2      304.0   863.5  720.0   733.0  469.0  1018.0  721.0  \n",
       "3     1065.5   257.0  433.0   568.5  632.0   616.0  293.5  \n",
       "4      237.0    43.0  161.0   162.5  171.5    94.5   97.0  \n",
       "...      ...     ...    ...     ...    ...     ...    ...  \n",
       "9995     2.0     0.0    0.0     1.0    0.0     0.0    2.5  \n",
       "9996     0.0     0.0    1.0     0.0    8.0     8.0    0.0  \n",
       "9997     5.0     0.0    0.0     8.0    0.0    69.5    0.5  \n",
       "9998     0.0     0.0    0.0     8.0   69.5     0.0    0.0  \n",
       "9999     0.5   337.0    2.5     0.0    0.5     0.0    0.0  \n",
       "\n",
       "[10000 rows x 10000 columns]"
      ]
     },
     "execution_count": 12,
     "metadata": {},
     "output_type": "execute_result"
    }
   ],
   "source": [
    "CO_OCCURRENCES"
   ]
  },
  {
   "cell_type": "code",
   "execution_count": 13,
   "id": "72aeef83-9944-4700-b722-2b1d9cea2bfe",
   "metadata": {},
   "outputs": [
    {
     "data": {
      "text/plain": [
       "0       the\n",
       "1        of\n",
       "2        in\n",
       "3       and\n",
       "4        to\n",
       "       ... \n",
       "9995     og\n",
       "9996    dei\n",
       "9997    una\n",
       "9998    cum\n",
       "9999    ein\n",
       "Name: 0, Length: 10000, dtype: object"
      ]
     },
     "execution_count": 13,
     "metadata": {},
     "output_type": "execute_result"
    }
   ],
   "source": [
    "DICTIONARY"
   ]
  },
  {
   "cell_type": "markdown",
   "id": "78428e6e-4520-451a-a786-584305e01f29",
   "metadata": {},
   "source": [
    "<div class=\"custom-assignment-text\">\n",
    "    \n",
    "\n",
    "b. (3 points) Let matrix $M$ denote the $10000×10000$ matrix of word co-occurrences. In light of the power law distribution of word occurrences, it is more suitable to work with the normalized matrix $\\tilde{M}$ such that each entry $\\tilde{M}_{ij} = log(1 + M_{ij})$. For the remainder of this problem, we will work with this scaled matrix, $\\tilde{M}$. Compute the rank-100 approximation of $\\tilde{M}$ by computing the SVD $\\tilde{M} = UDV^\\top$ . Plot the singular values of $\\tilde{M}$. Does $\\tilde{M}$ seem to be close to a low rank matrix? [Hint: Computing the full SVD will take a bit of time—instead you should compute just the top 100 singular values/vectors... and save this decomposition rather than recomputing every time you work on this miniproject!]\n",
    "\n",
    "</div>"
   ]
  },
  {
   "cell_type": "code",
   "execution_count": 29,
   "id": "c6eeb926-0112-4b7c-a6ab-6fbaffa63a9f",
   "metadata": {},
   "outputs": [],
   "source": [
    "NORMALIZED_CO_OCCURRENCES = np.log1p(CO_OCCURRENCES)"
   ]
  },
  {
   "cell_type": "code",
   "execution_count": 37,
   "id": "c15c3075-684a-47f6-b972-83c7de629302",
   "metadata": {},
   "outputs": [
    {
     "name": "stdout",
     "output_type": "stream",
     "text": [
      "CPU times: user 14.5 s, sys: 342 ms, total: 14.8 s\n",
      "Wall time: 7.46 s\n"
     ]
    }
   ],
   "source": [
    "@dataclass\n",
    "class SVDResult:\n",
    "    U: pd.DataFrame\n",
    "    S: pd.DataFrame\n",
    "    VT: pd.DataFrame\n",
    "\n",
    "def decompose(data):\n",
    "    U, S, VT = randomized_svd(data, \n",
    "                                  n_components=100,\n",
    "                                  n_iter=5,\n",
    "                                  random_state=None)\n",
    "    return SVDResult(U, S, VT)\n",
    "    \n",
    "%time CO_OCCURRENCES_SVD = decompose(NORMALIZED_CO_OCCURRENCES.to_numpy())"
   ]
  },
  {
   "cell_type": "code",
   "execution_count": 44,
   "id": "56f4c5cb-3557-44cf-a308-a15d87b2c150",
   "metadata": {},
   "outputs": [
    {
     "data": {
      "image/png": "[encoded data removed]",
      "text/plain": [
       "<Figure size 640x480 with 1 Axes>"
      ]
     },
     "metadata": {
      "image/png": {
       "height": 454,
       "width": 589
      }
     },
     "output_type": "display_data"
    }
   ],
   "source": [
    "def plot_singular_values(svd_result):\n",
    "    fig, ax = plt.subplots()\n",
    "    ax.set_xlabel(\"Rank\")\n",
    "    ax.set_ylabel(\"Singular Value\")\n",
    "    ax.set_title(\"Single Values of Word Co-occurrences\")\n",
    "    ax.plot(svd_result.S, \".\")\n",
    "\n",
    "plot_singular_values(CO_OCCURRENCES_SVD)"
   ]
  },
  {
   "cell_type": "markdown",
   "id": "186d92c9-077b-479d-8df5-c53062fc2281",
   "metadata": {},
   "source": [
    "$\\tilde{M}$ does appear to be close to a low-rank matrix, as there is a quick exponential drop in the singular values after the first few largest ones."
   ]
  },
  {
   "cell_type": "code",
   "execution_count": null,
   "id": "7c82c6ac-d84b-45e9-84f7-fb0beb527bd7",
   "metadata": {},
   "outputs": [],
   "source": []
  }
 ],
 "metadata": {
  "kernelspec": {
   "display_name": "Python 3",
   "language": "python",
   "name": "python3"
  },
  "language_info": {
   "codemirror_mode": {
    "name": "ipython",
    "version": 3
   },
   "file_extension": ".py",
   "mimetype": "text/x-python",
   "name": "python",
   "nbconvert_exporter": "python",
   "pygments_lexer": "ipython3",
   "version": "3.9.2"
  }
 },
 "nbformat": 4,
 "nbformat_minor": 5
}
