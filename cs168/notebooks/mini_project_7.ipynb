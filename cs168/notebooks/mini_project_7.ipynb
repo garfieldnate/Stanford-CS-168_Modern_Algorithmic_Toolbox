{
 "cells": [
  {
   "cell_type": "code",
   "execution_count": 1,
   "id": "f11a7c48-dff2-461d-8883-ce9873de5d64",
   "metadata": {},
   "outputs": [
    {
     "data": {
      "text/html": [
       "\n",
       "<style>\n",
       ".custom-assignment-text {\n",
       "    background-color: lightyellow;\n",
       "    border: 1px solid darkkhaki; \n",
       "    padding: 10px;\n",
       "    border-radius: 2px\n",
       "}\n",
       "</style>"
      ],
      "text/plain": [
       "<IPython.core.display.HTML object>"
      ]
     },
     "metadata": {},
     "output_type": "display_data"
    },
    {
     "data": {
      "text/html": [
       "\n",
       "<style>\n",
       ".jp-OutputArea-prompt:empty {\n",
       "  padding: 0;\n",
       "  border: 0;\n",
       "}\n",
       "</style>\n"
      ],
      "text/plain": [
       "<IPython.core.display.HTML object>"
      ]
     },
     "metadata": {},
     "output_type": "display_data"
    },
    {
     "data": {
      "text/markdown": [
       "#### Custom functionality enabled:"
      ],
      "text/plain": [
       "<IPython.core.display.Markdown object>"
      ]
     },
     "metadata": {},
     "output_type": "display_data"
    },
    {
     "data": {
      "text/markdown": [
       "* Format a code cell by entering `%%black` at the top of it"
      ],
      "text/plain": [
       "<IPython.core.display.Markdown object>"
      ]
     },
     "metadata": {},
     "output_type": "display_data"
    },
    {
     "data": {
      "text/markdown": [
       "* Surround markdown cells with  `<div class=\"custom-assignment-text\">\\n\\n ... \\n\\n</div>` to format course-provided assignment text"
      ],
      "text/plain": [
       "<IPython.core.display.Markdown object>"
      ]
     },
     "metadata": {},
     "output_type": "display_data"
    },
    {
     "data": {
      "text/markdown": [
       "* Use `ok(<message>)` to notify of a passing test"
      ],
      "text/plain": [
       "<IPython.core.display.Markdown object>"
      ]
     },
     "metadata": {},
     "output_type": "display_data"
    },
    {
     "data": {
      "text/markdown": [
       "* Use `assert_globals_clean()` to check that all globals are managed (private, constants, etc.)"
      ],
      "text/plain": [
       "<IPython.core.display.Markdown object>"
      ]
     },
     "metadata": {},
     "output_type": "display_data"
    },
    {
     "data": {
      "text/markdown": [
       "* Use `display_table` to display data in an inline HTML table"
      ],
      "text/plain": [
       "<IPython.core.display.Markdown object>"
      ]
     },
     "metadata": {},
     "output_type": "display_data"
    }
   ],
   "source": [
    "###########\n",
    "# PRELUDE #\n",
    "###########\n",
    "\n",
    "# auto-reload changed python files\n",
    "%load_ext autoreload\n",
    "%autoreload 2\n",
    "\n",
    "# Format cells with %%black\n",
    "%load_ext blackcellmagic\n",
    "\n",
    "# nice interactive plots\n",
    "%matplotlib inline\n",
    "\n",
    "import matplotlib\n",
    "# enable more math expressions in matplotlib labels\n",
    "matplotlib.rcParams['text.latex.preamble'] = r\"\\usepackage{amsmath}\"\n",
    "# no blurry plots!\n",
    "%config InlineBackend.figure_format = 'retina'\n",
    "\n",
    "# add repository directory to include path\n",
    "from pathlib import Path\n",
    "import sys\n",
    "PROJECT_DIR = Path('../..').resolve()\n",
    "sys.path.append(str(PROJECT_DIR))\n",
    "\n",
    "import inspect\n",
    "def _acceptable_global(name, value):\n",
    "    \"\"\"Returns True if a global variable with name/value can be safely ignored\"\"\"\n",
    "    return (\n",
    "        # stuff that's normal to share everywhere\n",
    "        inspect.isroutine(value) or\n",
    "        inspect.isclass(value) or\n",
    "        inspect.ismodule(value) or\n",
    "        # leading underscore marks private variables\n",
    "        name.startswith('_') or\n",
    "        # all-caps names indicate constants\n",
    "        name.upper() == name or\n",
    "        # ignore IPython stuff\n",
    "        name in {'In', 'Out'} or \n",
    "        getattr(value, '__module__', '').startswith('IPython'))\n",
    "\n",
    "def assert_globals_clean():\n",
    "    \"\"\"Raises an assertion error if there are unmanaged global variables.\n",
    "       Variables that are considered 'managed' include those formatted with \n",
    "       ALL_CAPS (constants), _a_leading_underscore (recognized as a global but at\n",
    "       least indicated as private to the cell), classes and modules, automatic\n",
    "       imports from IPython, and functions generally.\"\"\"\n",
    "    unmanaged_globals = {k:type(v) for k, v in globals().items() if not _acceptable_global(k, v)}\n",
    "    if unmanaged_globals != {}:\n",
    "        raise AssertionError(f\"Unmanaged globals found: {unmanaged_globals}\")\n",
    "    ok(\"No unmanaged globals detected\")\n",
    "\n",
    "from IPython.display import display, Markdown, HTML\n",
    "\n",
    "def markdown(s):\n",
    "    return display(Markdown(s))\n",
    "\n",
    "def html(s):\n",
    "    return display(HTML(s))\n",
    "\n",
    "def ok(message=\"OK\"):\n",
    "    html(f\"<div class=\\\"alert alert-block alert-success\\\">{message}</div>\")\n",
    "\n",
    "html(\"\"\"\n",
    "<style>\n",
    ".custom-assignment-text {\n",
    "    background-color: lightyellow;\n",
    "    border: 1px solid darkkhaki; \n",
    "    padding: 10px;\n",
    "    border-radius: 2px\n",
    "}\n",
    "</style>\"\"\")\n",
    "\n",
    "# Fixes space left behind tqdm progress bars with leave=False\n",
    "# see https://github.com/jupyterlab/jupyterlab/issues/7354\n",
    "html(\"\"\"\n",
    "<style>\n",
    ".jp-OutputArea-prompt:empty {\n",
    "  padding: 0;\n",
    "  border: 0;\n",
    "}\n",
    "</style>\n",
    "\"\"\")\n",
    "\n",
    "def display_table(data, title, headers):\n",
    "    \"\"\"Display data in an HTML table inline in the notebook\n",
    "       data: list of lists of values to put in table rows\n",
    "       title: to set table caption\n",
    "       headers: list of table header strings\"\"\"\n",
    "    text = \"<table>\"\n",
    "    text += f\"<caption style='font-weight: bold; font-size: large'>{title}</caption>\"\n",
    "    \n",
    "    text += \"<tr>\"\n",
    "    for h in headers:\n",
    "        text += f'<th style=\"text-align:center\">{h}</th>'\n",
    "    text += \"</tr>\"\n",
    "    \n",
    "    for row in data:\n",
    "        text += \"<tr>\"\n",
    "        for value in row:\n",
    "            text += f\"<td>{value}</td>\"\n",
    "        text += \"</tr>\"\n",
    "    text += \"</table>\"\n",
    "    html(text)\n",
    "\n",
    "markdown(\"#### Custom functionality enabled:\")\n",
    "markdown(\"* Format a code cell by entering `%%black` at the top of it\")\n",
    "markdown(\"* Surround markdown cells with  `<div class=\\\"custom-assignment-text\\\">\\\\n\\\\n ... \\\\n\\\\n</div>` to format course-provided assignment text\")\n",
    "markdown(\"* Use `ok(<message>)` to notify of a passing test\")\n",
    "markdown(\"* Use `assert_globals_clean()` to check that all globals are managed (private, constants, etc.)\")\n",
    "markdown(\"* Use `display_table` to display data in an inline HTML table\")"
   ]
  },
  {
   "cell_type": "markdown",
   "id": "7d03af8b-89ee-4850-9da4-f0872649738a",
   "metadata": {},
   "source": [
    "<div class=\"custom-assignment-text\">\n",
    "\n",
    "## Part 1: Markov Chains\n",
    "\n",
    "### Goal\n",
    "\n",
    "In this exercise you will build intuition on Markov chains and their properties.\n",
    "\n",
    "### Description\n",
    "\n",
    "For each of the following three graphs, consider a Markov chain defined by a random walk over the \n",
    "nodes of the graph (specifically, the states of the chain correspond to nodes of the graph, and at \n",
    "                    each time step, the chain transitions to a random neighbor of the current state).\n",
    "\n",
    "<figure><center><img src=\"../../materials/Week 7/Figure_1.png\" width=100%><figcaption>Figure 1: The cycle graph.</figcaption></center></figure>\n",
    "\n",
    "1. The cycle graph (Figure 1) with n = 10.\n",
    "\n",
    "2. The cycle graph with n = 9.\n",
    "\n",
    "3. The cycle graph with n = 9, with an extra edge connecting nodes 1 and 5.\n",
    "\n",
    "(a) (2 points) For each Markov chain, explain whether it is aperiodic and irreducible. If it \n",
    "is aperiodic and irreducible, what is its stationary distribution, $π$? (Recall that a Markov chain is\n",
    "*irreducible* if for all pairs of states $s_i, s_j$, it is possible to eventually get to $s_j$ starting \n",
    "from $s_i$. It is *aperiodic* if the set of times ${t1, t2, \\ldots }$ consisting of all $t$ for which\n",
    "$Pr[X_t = s_j | X_0 = s_i] > 0$ satisfies the property that $gcd(t1, t2, \\ldots) = 1$.)\n",
    "\n",
    "The total *variation distance* between two probability distributions $D_1, D_2$ supported on a domain $S$\n",
    "is defined as $||D_1 − D_2||_{TV} = \\frac{1}{2} \\sum_{x∈S} |D1(x) − D2(x)|$.\n",
    "\n",
    "</div>"
   ]
  },
  {
   "cell_type": "code",
   "execution_count": null,
   "id": "7a789794-a7ce-4faf-aa37-41defea5a30d",
   "metadata": {},
   "outputs": [],
   "source": []
  }
 ],
 "metadata": {
  "kernelspec": {
   "display_name": "Python 3 (ipykernel)",
   "language": "python",
   "name": "python3"
  },
  "language_info": {
   "codemirror_mode": {
    "name": "ipython",
    "version": 3
   },
   "file_extension": ".py",
   "mimetype": "text/x-python",
   "name": "python",
   "nbconvert_exporter": "python",
   "pygments_lexer": "ipython3",
   "version": "3.9.10"
  }
 },
 "nbformat": 4,
 "nbformat_minor": 5
}
